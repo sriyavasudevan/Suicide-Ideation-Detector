{
  "nbformat": 4,
  "nbformat_minor": 0,
  "metadata": {
    "colab": {
      "provenance": [],
      "toc_visible": true
    },
    "kernelspec": {
      "name": "python3",
      "display_name": "Python 3"
    },
    "language_info": {
      "name": "python"
    }
  },
  "cells": [
    {
      "cell_type": "code",
      "source": [
        "!pip install emot\n",
        "!pip install unidecode\n",
        "\n",
        "# for bert model\n",
        "!pip install transformers\n",
        "!pip install symspellpy"
      ],
      "metadata": {
        "colab": {
          "base_uri": "https://localhost:8080/"
        },
        "id": "UoTO4eRhF1xb",
        "outputId": "3bc2820c-ae44-4dfa-893d-16f1cb07addc"
      },
      "execution_count": null,
      "outputs": [
        {
          "output_type": "stream",
          "name": "stdout",
          "text": [
            "Looking in indexes: https://pypi.org/simple, https://us-python.pkg.dev/colab-wheels/public/simple/\n",
            "Collecting emot\n",
            "  Downloading emot-3.1-py3-none-any.whl (61 kB)\n",
            "\u001b[K     |████████████████████████████████| 61 kB 18 kB/s \n",
            "\u001b[?25hInstalling collected packages: emot\n",
            "Successfully installed emot-3.1\n",
            "Looking in indexes: https://pypi.org/simple, https://us-python.pkg.dev/colab-wheels/public/simple/\n",
            "Collecting unidecode\n",
            "  Downloading Unidecode-1.3.4-py3-none-any.whl (235 kB)\n",
            "\u001b[K     |████████████████████████████████| 235 kB 5.2 MB/s \n",
            "\u001b[?25hInstalling collected packages: unidecode\n",
            "Successfully installed unidecode-1.3.4\n",
            "Looking in indexes: https://pypi.org/simple, https://us-python.pkg.dev/colab-wheels/public/simple/\n",
            "Collecting transformers\n",
            "  Downloading transformers-4.20.1-py3-none-any.whl (4.4 MB)\n",
            "\u001b[K     |████████████████████████████████| 4.4 MB 7.4 MB/s \n",
            "\u001b[?25hCollecting pyyaml>=5.1\n",
            "  Downloading PyYAML-6.0-cp37-cp37m-manylinux_2_5_x86_64.manylinux1_x86_64.manylinux_2_12_x86_64.manylinux2010_x86_64.whl (596 kB)\n",
            "\u001b[K     |████████████████████████████████| 596 kB 17.3 MB/s \n",
            "\u001b[?25hRequirement already satisfied: requests in /usr/local/lib/python3.7/dist-packages (from transformers) (2.23.0)\n",
            "Requirement already satisfied: regex!=2019.12.17 in /usr/local/lib/python3.7/dist-packages (from transformers) (2022.6.2)\n",
            "Collecting tokenizers!=0.11.3,<0.13,>=0.11.1\n",
            "  Downloading tokenizers-0.12.1-cp37-cp37m-manylinux_2_12_x86_64.manylinux2010_x86_64.whl (6.6 MB)\n",
            "\u001b[K     |████████████████████████████████| 6.6 MB 29.1 MB/s \n",
            "\u001b[?25hRequirement already satisfied: importlib-metadata in /usr/local/lib/python3.7/dist-packages (from transformers) (4.11.4)\n",
            "Requirement already satisfied: tqdm>=4.27 in /usr/local/lib/python3.7/dist-packages (from transformers) (4.64.0)\n",
            "Requirement already satisfied: packaging>=20.0 in /usr/local/lib/python3.7/dist-packages (from transformers) (21.3)\n",
            "Requirement already satisfied: filelock in /usr/local/lib/python3.7/dist-packages (from transformers) (3.7.1)\n",
            "Collecting huggingface-hub<1.0,>=0.1.0\n",
            "  Downloading huggingface_hub-0.8.1-py3-none-any.whl (101 kB)\n",
            "\u001b[K     |████████████████████████████████| 101 kB 8.5 MB/s \n",
            "\u001b[?25hRequirement already satisfied: numpy>=1.17 in /usr/local/lib/python3.7/dist-packages (from transformers) (1.21.6)\n",
            "Requirement already satisfied: typing-extensions>=3.7.4.3 in /usr/local/lib/python3.7/dist-packages (from huggingface-hub<1.0,>=0.1.0->transformers) (4.1.1)\n",
            "Requirement already satisfied: pyparsing!=3.0.5,>=2.0.2 in /usr/local/lib/python3.7/dist-packages (from packaging>=20.0->transformers) (3.0.9)\n",
            "Requirement already satisfied: zipp>=0.5 in /usr/local/lib/python3.7/dist-packages (from importlib-metadata->transformers) (3.8.0)\n",
            "Requirement already satisfied: certifi>=2017.4.17 in /usr/local/lib/python3.7/dist-packages (from requests->transformers) (2022.6.15)\n",
            "Requirement already satisfied: urllib3!=1.25.0,!=1.25.1,<1.26,>=1.21.1 in /usr/local/lib/python3.7/dist-packages (from requests->transformers) (1.24.3)\n",
            "Requirement already satisfied: chardet<4,>=3.0.2 in /usr/local/lib/python3.7/dist-packages (from requests->transformers) (3.0.4)\n",
            "Requirement already satisfied: idna<3,>=2.5 in /usr/local/lib/python3.7/dist-packages (from requests->transformers) (2.10)\n",
            "Installing collected packages: pyyaml, tokenizers, huggingface-hub, transformers\n",
            "  Attempting uninstall: pyyaml\n",
            "    Found existing installation: PyYAML 3.13\n",
            "    Uninstalling PyYAML-3.13:\n",
            "      Successfully uninstalled PyYAML-3.13\n",
            "Successfully installed huggingface-hub-0.8.1 pyyaml-6.0 tokenizers-0.12.1 transformers-4.20.1\n",
            "Looking in indexes: https://pypi.org/simple, https://us-python.pkg.dev/colab-wheels/public/simple/\n",
            "Collecting symspellpy\n",
            "  Downloading symspellpy-6.7.6-py3-none-any.whl (2.6 MB)\n",
            "\u001b[K     |████████████████████████████████| 2.6 MB 5.0 MB/s \n",
            "\u001b[?25hCollecting editdistpy>=0.1.3\n",
            "  Downloading editdistpy-0.1.3-cp37-cp37m-manylinux_2_5_x86_64.manylinux1_x86_64.manylinux_2_17_x86_64.manylinux2014_x86_64.whl (125 kB)\n",
            "\u001b[K     |████████████████████████████████| 125 kB 31.0 MB/s \n",
            "\u001b[?25hInstalling collected packages: editdistpy, symspellpy\n",
            "Successfully installed editdistpy-0.1.3 symspellpy-6.7.6\n"
          ]
        }
      ]
    },
    {
      "cell_type": "markdown",
      "source": [
        "## Import statements"
      ],
      "metadata": {
        "id": "DgAsgX8PGmXV"
      }
    },
    {
      "cell_type": "code",
      "execution_count": null,
      "metadata": {
        "colab": {
          "base_uri": "https://localhost:8080/"
        },
        "id": "3TEGVa_xna1D",
        "outputId": "7c0d2b6e-0723-4ac9-f86a-c39759425281"
      },
      "outputs": [
        {
          "output_type": "stream",
          "name": "stderr",
          "text": [
            "[nltk_data] Downloading package punkt to /root/nltk_data...\n",
            "[nltk_data]   Unzipping tokenizers/punkt.zip.\n",
            "[nltk_data] Downloading package stopwords to /root/nltk_data...\n",
            "[nltk_data]   Unzipping corpora/stopwords.zip.\n",
            "[nltk_data] Downloading package averaged_perceptron_tagger to\n",
            "[nltk_data]     /root/nltk_data...\n",
            "[nltk_data]   Unzipping taggers/averaged_perceptron_tagger.zip.\n",
            "[nltk_data] Downloading package wordnet to /root/nltk_data...\n",
            "[nltk_data]   Unzipping corpora/wordnet.zip.\n"
          ]
        }
      ],
      "source": [
        "import pandas as pd\n",
        "import numpy as np\n",
        "from unidecode import unidecode\n",
        "\n",
        "from sklearn import preprocessing\n",
        "from sklearn.model_selection import train_test_split\n",
        "from sklearn.feature_extraction.text import CountVectorizer\n",
        "from sklearn.feature_extraction.text import TfidfTransformer\n",
        "from sklearn.naive_bayes import MultinomialNB\n",
        "\n",
        "from sklearn.feature_extraction.text import TfidfVectorizer\n",
        "\n",
        "import re\n",
        "import pandas as pd\n",
        "from nltk.corpus import stopwords\n",
        "\n",
        "import spacy\n",
        "from spacy.tokenizer import Tokenizer\n",
        "from spacy.lang.en import English\n",
        "\n",
        "import string\n",
        "import pickle\n",
        "\n",
        "import emot\n",
        "from emot.emo_unicode import UNICODE_EMOJI, EMOTICONS_EMO\n",
        "\n",
        "import nltk\n",
        "nltk.download('punkt')\n",
        "nltk.download('stopwords')\n",
        "nltk.download('averaged_perceptron_tagger')\n",
        "nltk.download('wordnet')\n",
        "from nltk.stem.wordnet import WordNetLemmatizer\n",
        "from nltk.tag import pos_tag\n",
        "from nltk.tokenize import word_tokenize\n",
        "from nltk import FreqDist, classify, NaiveBayesClassifier\n",
        "\n",
        "import random\n",
        "\n",
        "# to check spelling\n",
        "import pkg_resources\n",
        "from symspellpy import SymSpell, Verbosity\n",
        "\n",
        "# for bert model\n",
        "from transformers import BertTokenizer"
      ]
    },
    {
      "cell_type": "code",
      "source": [
        "# Mount Google Drive to access files\n",
        "from google.colab import drive\n",
        "drive.mount('/content/drive/')"
      ],
      "metadata": {
        "colab": {
          "base_uri": "https://localhost:8080/"
        },
        "id": "lGYDDrteneyX",
        "outputId": "dae19c9c-d048-46f9-9f52-9b585b2f20fc"
      },
      "execution_count": null,
      "outputs": [
        {
          "output_type": "stream",
          "name": "stdout",
          "text": [
            "Drive already mounted at /content/drive/; to attempt to forcibly remount, call drive.mount(\"/content/drive/\", force_remount=True).\n"
          ]
        }
      ]
    },
    {
      "cell_type": "code",
      "source": [
        "data_path = \"/content/drive/MyDrive/data_mmai/\""
      ],
      "metadata": {
        "id": "tvhb1VPmHT_-"
      },
      "execution_count": null,
      "outputs": []
    },
    {
      "cell_type": "markdown",
      "source": [
        "## Preprocessing"
      ],
      "metadata": {
        "id": "X4BkRS3Y_uZ3"
      }
    },
    {
      "cell_type": "markdown",
      "source": [
        "### Reading input"
      ],
      "metadata": {
        "id": "K4sBcaA3Gqhu"
      }
    },
    {
      "cell_type": "code",
      "source": [
        "data_df = pd.read_csv(data_path + \"Suicide_Detection.csv\")"
      ],
      "metadata": {
        "id": "_dCeX0IBnz07"
      },
      "execution_count": null,
      "outputs": []
    },
    {
      "cell_type": "code",
      "source": [
        "data_df"
      ],
      "metadata": {
        "colab": {
          "base_uri": "https://localhost:8080/",
          "height": 424
        },
        "id": "92d7n7dxn5V4",
        "outputId": "5dab3d72-8848-4b82-ee30-1d095ede9c36"
      },
      "execution_count": null,
      "outputs": [
        {
          "output_type": "execute_result",
          "data": {
            "text/plain": [
              "        Unnamed: 0                                               text  \\\n",
              "0                2  Ex Wife Threatening SuicideRecently I left my ...   \n",
              "1                3  Am I weird I don't get affected by compliments...   \n",
              "2                4  Finally 2020 is almost over... So I can never ...   \n",
              "3                8          i need helpjust help me im crying so hard   \n",
              "4                9  I’m so lostHello, my name is Adam (16) and I’v...   \n",
              "...            ...                                                ...   \n",
              "232069      348103  If you don't like rock then your not going to ...   \n",
              "232070      348106  You how you can tell i have so many friends an...   \n",
              "232071      348107  pee probably tastes like salty tea😏💦‼️ can som...   \n",
              "232072      348108  The usual stuff you find hereI'm not posting t...   \n",
              "232073      348110  I still haven't beaten the first boss in Hollo...   \n",
              "\n",
              "              class  \n",
              "0           suicide  \n",
              "1       non-suicide  \n",
              "2       non-suicide  \n",
              "3           suicide  \n",
              "4           suicide  \n",
              "...             ...  \n",
              "232069  non-suicide  \n",
              "232070  non-suicide  \n",
              "232071  non-suicide  \n",
              "232072      suicide  \n",
              "232073  non-suicide  \n",
              "\n",
              "[232074 rows x 3 columns]"
            ],
            "text/html": [
              "\n",
              "  <div id=\"df-f7b820dc-d437-4963-9409-24327dc24c8e\">\n",
              "    <div class=\"colab-df-container\">\n",
              "      <div>\n",
              "<style scoped>\n",
              "    .dataframe tbody tr th:only-of-type {\n",
              "        vertical-align: middle;\n",
              "    }\n",
              "\n",
              "    .dataframe tbody tr th {\n",
              "        vertical-align: top;\n",
              "    }\n",
              "\n",
              "    .dataframe thead th {\n",
              "        text-align: right;\n",
              "    }\n",
              "</style>\n",
              "<table border=\"1\" class=\"dataframe\">\n",
              "  <thead>\n",
              "    <tr style=\"text-align: right;\">\n",
              "      <th></th>\n",
              "      <th>Unnamed: 0</th>\n",
              "      <th>text</th>\n",
              "      <th>class</th>\n",
              "    </tr>\n",
              "  </thead>\n",
              "  <tbody>\n",
              "    <tr>\n",
              "      <th>0</th>\n",
              "      <td>2</td>\n",
              "      <td>Ex Wife Threatening SuicideRecently I left my ...</td>\n",
              "      <td>suicide</td>\n",
              "    </tr>\n",
              "    <tr>\n",
              "      <th>1</th>\n",
              "      <td>3</td>\n",
              "      <td>Am I weird I don't get affected by compliments...</td>\n",
              "      <td>non-suicide</td>\n",
              "    </tr>\n",
              "    <tr>\n",
              "      <th>2</th>\n",
              "      <td>4</td>\n",
              "      <td>Finally 2020 is almost over... So I can never ...</td>\n",
              "      <td>non-suicide</td>\n",
              "    </tr>\n",
              "    <tr>\n",
              "      <th>3</th>\n",
              "      <td>8</td>\n",
              "      <td>i need helpjust help me im crying so hard</td>\n",
              "      <td>suicide</td>\n",
              "    </tr>\n",
              "    <tr>\n",
              "      <th>4</th>\n",
              "      <td>9</td>\n",
              "      <td>I’m so lostHello, my name is Adam (16) and I’v...</td>\n",
              "      <td>suicide</td>\n",
              "    </tr>\n",
              "    <tr>\n",
              "      <th>...</th>\n",
              "      <td>...</td>\n",
              "      <td>...</td>\n",
              "      <td>...</td>\n",
              "    </tr>\n",
              "    <tr>\n",
              "      <th>232069</th>\n",
              "      <td>348103</td>\n",
              "      <td>If you don't like rock then your not going to ...</td>\n",
              "      <td>non-suicide</td>\n",
              "    </tr>\n",
              "    <tr>\n",
              "      <th>232070</th>\n",
              "      <td>348106</td>\n",
              "      <td>You how you can tell i have so many friends an...</td>\n",
              "      <td>non-suicide</td>\n",
              "    </tr>\n",
              "    <tr>\n",
              "      <th>232071</th>\n",
              "      <td>348107</td>\n",
              "      <td>pee probably tastes like salty tea😏💦‼️ can som...</td>\n",
              "      <td>non-suicide</td>\n",
              "    </tr>\n",
              "    <tr>\n",
              "      <th>232072</th>\n",
              "      <td>348108</td>\n",
              "      <td>The usual stuff you find hereI'm not posting t...</td>\n",
              "      <td>suicide</td>\n",
              "    </tr>\n",
              "    <tr>\n",
              "      <th>232073</th>\n",
              "      <td>348110</td>\n",
              "      <td>I still haven't beaten the first boss in Hollo...</td>\n",
              "      <td>non-suicide</td>\n",
              "    </tr>\n",
              "  </tbody>\n",
              "</table>\n",
              "<p>232074 rows × 3 columns</p>\n",
              "</div>\n",
              "      <button class=\"colab-df-convert\" onclick=\"convertToInteractive('df-f7b820dc-d437-4963-9409-24327dc24c8e')\"\n",
              "              title=\"Convert this dataframe to an interactive table.\"\n",
              "              style=\"display:none;\">\n",
              "        \n",
              "  <svg xmlns=\"http://www.w3.org/2000/svg\" height=\"24px\"viewBox=\"0 0 24 24\"\n",
              "       width=\"24px\">\n",
              "    <path d=\"M0 0h24v24H0V0z\" fill=\"none\"/>\n",
              "    <path d=\"M18.56 5.44l.94 2.06.94-2.06 2.06-.94-2.06-.94-.94-2.06-.94 2.06-2.06.94zm-11 1L8.5 8.5l.94-2.06 2.06-.94-2.06-.94L8.5 2.5l-.94 2.06-2.06.94zm10 10l.94 2.06.94-2.06 2.06-.94-2.06-.94-.94-2.06-.94 2.06-2.06.94z\"/><path d=\"M17.41 7.96l-1.37-1.37c-.4-.4-.92-.59-1.43-.59-.52 0-1.04.2-1.43.59L10.3 9.45l-7.72 7.72c-.78.78-.78 2.05 0 2.83L4 21.41c.39.39.9.59 1.41.59.51 0 1.02-.2 1.41-.59l7.78-7.78 2.81-2.81c.8-.78.8-2.07 0-2.86zM5.41 20L4 18.59l7.72-7.72 1.47 1.35L5.41 20z\"/>\n",
              "  </svg>\n",
              "      </button>\n",
              "      \n",
              "  <style>\n",
              "    .colab-df-container {\n",
              "      display:flex;\n",
              "      flex-wrap:wrap;\n",
              "      gap: 12px;\n",
              "    }\n",
              "\n",
              "    .colab-df-convert {\n",
              "      background-color: #E8F0FE;\n",
              "      border: none;\n",
              "      border-radius: 50%;\n",
              "      cursor: pointer;\n",
              "      display: none;\n",
              "      fill: #1967D2;\n",
              "      height: 32px;\n",
              "      padding: 0 0 0 0;\n",
              "      width: 32px;\n",
              "    }\n",
              "\n",
              "    .colab-df-convert:hover {\n",
              "      background-color: #E2EBFA;\n",
              "      box-shadow: 0px 1px 2px rgba(60, 64, 67, 0.3), 0px 1px 3px 1px rgba(60, 64, 67, 0.15);\n",
              "      fill: #174EA6;\n",
              "    }\n",
              "\n",
              "    [theme=dark] .colab-df-convert {\n",
              "      background-color: #3B4455;\n",
              "      fill: #D2E3FC;\n",
              "    }\n",
              "\n",
              "    [theme=dark] .colab-df-convert:hover {\n",
              "      background-color: #434B5C;\n",
              "      box-shadow: 0px 1px 3px 1px rgba(0, 0, 0, 0.15);\n",
              "      filter: drop-shadow(0px 1px 2px rgba(0, 0, 0, 0.3));\n",
              "      fill: #FFFFFF;\n",
              "    }\n",
              "  </style>\n",
              "\n",
              "      <script>\n",
              "        const buttonEl =\n",
              "          document.querySelector('#df-f7b820dc-d437-4963-9409-24327dc24c8e button.colab-df-convert');\n",
              "        buttonEl.style.display =\n",
              "          google.colab.kernel.accessAllowed ? 'block' : 'none';\n",
              "\n",
              "        async function convertToInteractive(key) {\n",
              "          const element = document.querySelector('#df-f7b820dc-d437-4963-9409-24327dc24c8e');\n",
              "          const dataTable =\n",
              "            await google.colab.kernel.invokeFunction('convertToInteractive',\n",
              "                                                     [key], {});\n",
              "          if (!dataTable) return;\n",
              "\n",
              "          const docLinkHtml = 'Like what you see? Visit the ' +\n",
              "            '<a target=\"_blank\" href=https://colab.research.google.com/notebooks/data_table.ipynb>data table notebook</a>'\n",
              "            + ' to learn more about interactive tables.';\n",
              "          element.innerHTML = '';\n",
              "          dataTable['output_type'] = 'display_data';\n",
              "          await google.colab.output.renderOutput(dataTable, element);\n",
              "          const docLink = document.createElement('div');\n",
              "          docLink.innerHTML = docLinkHtml;\n",
              "          element.appendChild(docLink);\n",
              "        }\n",
              "      </script>\n",
              "    </div>\n",
              "  </div>\n",
              "  "
            ]
          },
          "metadata": {},
          "execution_count": 6
        }
      ]
    },
    {
      "cell_type": "code",
      "source": [
        "le = preprocessing.LabelEncoder()\n",
        "le.fit(data_df['class'])\n",
        "norm_labels = le.transform(data_df['class'])"
      ],
      "metadata": {
        "id": "l7HvFmYCoCcD"
      },
      "execution_count": null,
      "outputs": []
    },
    {
      "cell_type": "code",
      "source": [
        "data_df = data_df.drop('Unnamed: 0', 1)"
      ],
      "metadata": {
        "colab": {
          "base_uri": "https://localhost:8080/"
        },
        "id": "mvygD4OTpyUt",
        "outputId": "5b7f922d-aa8f-4b45-83ba-3405a3645c07"
      },
      "execution_count": null,
      "outputs": [
        {
          "output_type": "stream",
          "name": "stderr",
          "text": [
            "/usr/local/lib/python3.7/dist-packages/ipykernel_launcher.py:1: FutureWarning: In a future version of pandas all arguments of DataFrame.drop except for the argument 'labels' will be keyword-only\n",
            "  \"\"\"Entry point for launching an IPython kernel.\n"
          ]
        }
      ]
    },
    {
      "cell_type": "code",
      "source": [
        "data_df['encoded_class'] = norm_labels"
      ],
      "metadata": {
        "id": "Mwx2sTFr_DS6"
      },
      "execution_count": null,
      "outputs": []
    },
    {
      "cell_type": "code",
      "source": [
        "data_df"
      ],
      "metadata": {
        "id": "Pnu_DM2P_i9Y",
        "colab": {
          "base_uri": "https://localhost:8080/",
          "height": 424
        },
        "outputId": "d609eafc-30be-4f57-8664-a0f762778cb9"
      },
      "execution_count": null,
      "outputs": [
        {
          "output_type": "execute_result",
          "data": {
            "text/plain": [
              "                                                     text        class  \\\n",
              "0       Ex Wife Threatening SuicideRecently I left my ...      suicide   \n",
              "1       Am I weird I don't get affected by compliments...  non-suicide   \n",
              "2       Finally 2020 is almost over... So I can never ...  non-suicide   \n",
              "3               i need helpjust help me im crying so hard      suicide   \n",
              "4       I’m so lostHello, my name is Adam (16) and I’v...      suicide   \n",
              "...                                                   ...          ...   \n",
              "232069  If you don't like rock then your not going to ...  non-suicide   \n",
              "232070  You how you can tell i have so many friends an...  non-suicide   \n",
              "232071  pee probably tastes like salty tea😏💦‼️ can som...  non-suicide   \n",
              "232072  The usual stuff you find hereI'm not posting t...      suicide   \n",
              "232073  I still haven't beaten the first boss in Hollo...  non-suicide   \n",
              "\n",
              "        encoded_class  \n",
              "0                   1  \n",
              "1                   0  \n",
              "2                   0  \n",
              "3                   1  \n",
              "4                   1  \n",
              "...               ...  \n",
              "232069              0  \n",
              "232070              0  \n",
              "232071              0  \n",
              "232072              1  \n",
              "232073              0  \n",
              "\n",
              "[232074 rows x 3 columns]"
            ],
            "text/html": [
              "\n",
              "  <div id=\"df-7288a237-43bf-443e-98c8-f2d7b319fb6f\">\n",
              "    <div class=\"colab-df-container\">\n",
              "      <div>\n",
              "<style scoped>\n",
              "    .dataframe tbody tr th:only-of-type {\n",
              "        vertical-align: middle;\n",
              "    }\n",
              "\n",
              "    .dataframe tbody tr th {\n",
              "        vertical-align: top;\n",
              "    }\n",
              "\n",
              "    .dataframe thead th {\n",
              "        text-align: right;\n",
              "    }\n",
              "</style>\n",
              "<table border=\"1\" class=\"dataframe\">\n",
              "  <thead>\n",
              "    <tr style=\"text-align: right;\">\n",
              "      <th></th>\n",
              "      <th>text</th>\n",
              "      <th>class</th>\n",
              "      <th>encoded_class</th>\n",
              "    </tr>\n",
              "  </thead>\n",
              "  <tbody>\n",
              "    <tr>\n",
              "      <th>0</th>\n",
              "      <td>Ex Wife Threatening SuicideRecently I left my ...</td>\n",
              "      <td>suicide</td>\n",
              "      <td>1</td>\n",
              "    </tr>\n",
              "    <tr>\n",
              "      <th>1</th>\n",
              "      <td>Am I weird I don't get affected by compliments...</td>\n",
              "      <td>non-suicide</td>\n",
              "      <td>0</td>\n",
              "    </tr>\n",
              "    <tr>\n",
              "      <th>2</th>\n",
              "      <td>Finally 2020 is almost over... So I can never ...</td>\n",
              "      <td>non-suicide</td>\n",
              "      <td>0</td>\n",
              "    </tr>\n",
              "    <tr>\n",
              "      <th>3</th>\n",
              "      <td>i need helpjust help me im crying so hard</td>\n",
              "      <td>suicide</td>\n",
              "      <td>1</td>\n",
              "    </tr>\n",
              "    <tr>\n",
              "      <th>4</th>\n",
              "      <td>I’m so lostHello, my name is Adam (16) and I’v...</td>\n",
              "      <td>suicide</td>\n",
              "      <td>1</td>\n",
              "    </tr>\n",
              "    <tr>\n",
              "      <th>...</th>\n",
              "      <td>...</td>\n",
              "      <td>...</td>\n",
              "      <td>...</td>\n",
              "    </tr>\n",
              "    <tr>\n",
              "      <th>232069</th>\n",
              "      <td>If you don't like rock then your not going to ...</td>\n",
              "      <td>non-suicide</td>\n",
              "      <td>0</td>\n",
              "    </tr>\n",
              "    <tr>\n",
              "      <th>232070</th>\n",
              "      <td>You how you can tell i have so many friends an...</td>\n",
              "      <td>non-suicide</td>\n",
              "      <td>0</td>\n",
              "    </tr>\n",
              "    <tr>\n",
              "      <th>232071</th>\n",
              "      <td>pee probably tastes like salty tea😏💦‼️ can som...</td>\n",
              "      <td>non-suicide</td>\n",
              "      <td>0</td>\n",
              "    </tr>\n",
              "    <tr>\n",
              "      <th>232072</th>\n",
              "      <td>The usual stuff you find hereI'm not posting t...</td>\n",
              "      <td>suicide</td>\n",
              "      <td>1</td>\n",
              "    </tr>\n",
              "    <tr>\n",
              "      <th>232073</th>\n",
              "      <td>I still haven't beaten the first boss in Hollo...</td>\n",
              "      <td>non-suicide</td>\n",
              "      <td>0</td>\n",
              "    </tr>\n",
              "  </tbody>\n",
              "</table>\n",
              "<p>232074 rows × 3 columns</p>\n",
              "</div>\n",
              "      <button class=\"colab-df-convert\" onclick=\"convertToInteractive('df-7288a237-43bf-443e-98c8-f2d7b319fb6f')\"\n",
              "              title=\"Convert this dataframe to an interactive table.\"\n",
              "              style=\"display:none;\">\n",
              "        \n",
              "  <svg xmlns=\"http://www.w3.org/2000/svg\" height=\"24px\"viewBox=\"0 0 24 24\"\n",
              "       width=\"24px\">\n",
              "    <path d=\"M0 0h24v24H0V0z\" fill=\"none\"/>\n",
              "    <path d=\"M18.56 5.44l.94 2.06.94-2.06 2.06-.94-2.06-.94-.94-2.06-.94 2.06-2.06.94zm-11 1L8.5 8.5l.94-2.06 2.06-.94-2.06-.94L8.5 2.5l-.94 2.06-2.06.94zm10 10l.94 2.06.94-2.06 2.06-.94-2.06-.94-.94-2.06-.94 2.06-2.06.94z\"/><path d=\"M17.41 7.96l-1.37-1.37c-.4-.4-.92-.59-1.43-.59-.52 0-1.04.2-1.43.59L10.3 9.45l-7.72 7.72c-.78.78-.78 2.05 0 2.83L4 21.41c.39.39.9.59 1.41.59.51 0 1.02-.2 1.41-.59l7.78-7.78 2.81-2.81c.8-.78.8-2.07 0-2.86zM5.41 20L4 18.59l7.72-7.72 1.47 1.35L5.41 20z\"/>\n",
              "  </svg>\n",
              "      </button>\n",
              "      \n",
              "  <style>\n",
              "    .colab-df-container {\n",
              "      display:flex;\n",
              "      flex-wrap:wrap;\n",
              "      gap: 12px;\n",
              "    }\n",
              "\n",
              "    .colab-df-convert {\n",
              "      background-color: #E8F0FE;\n",
              "      border: none;\n",
              "      border-radius: 50%;\n",
              "      cursor: pointer;\n",
              "      display: none;\n",
              "      fill: #1967D2;\n",
              "      height: 32px;\n",
              "      padding: 0 0 0 0;\n",
              "      width: 32px;\n",
              "    }\n",
              "\n",
              "    .colab-df-convert:hover {\n",
              "      background-color: #E2EBFA;\n",
              "      box-shadow: 0px 1px 2px rgba(60, 64, 67, 0.3), 0px 1px 3px 1px rgba(60, 64, 67, 0.15);\n",
              "      fill: #174EA6;\n",
              "    }\n",
              "\n",
              "    [theme=dark] .colab-df-convert {\n",
              "      background-color: #3B4455;\n",
              "      fill: #D2E3FC;\n",
              "    }\n",
              "\n",
              "    [theme=dark] .colab-df-convert:hover {\n",
              "      background-color: #434B5C;\n",
              "      box-shadow: 0px 1px 3px 1px rgba(0, 0, 0, 0.15);\n",
              "      filter: drop-shadow(0px 1px 2px rgba(0, 0, 0, 0.3));\n",
              "      fill: #FFFFFF;\n",
              "    }\n",
              "  </style>\n",
              "\n",
              "      <script>\n",
              "        const buttonEl =\n",
              "          document.querySelector('#df-7288a237-43bf-443e-98c8-f2d7b319fb6f button.colab-df-convert');\n",
              "        buttonEl.style.display =\n",
              "          google.colab.kernel.accessAllowed ? 'block' : 'none';\n",
              "\n",
              "        async function convertToInteractive(key) {\n",
              "          const element = document.querySelector('#df-7288a237-43bf-443e-98c8-f2d7b319fb6f');\n",
              "          const dataTable =\n",
              "            await google.colab.kernel.invokeFunction('convertToInteractive',\n",
              "                                                     [key], {});\n",
              "          if (!dataTable) return;\n",
              "\n",
              "          const docLinkHtml = 'Like what you see? Visit the ' +\n",
              "            '<a target=\"_blank\" href=https://colab.research.google.com/notebooks/data_table.ipynb>data table notebook</a>'\n",
              "            + ' to learn more about interactive tables.';\n",
              "          element.innerHTML = '';\n",
              "          dataTable['output_type'] = 'display_data';\n",
              "          await google.colab.output.renderOutput(dataTable, element);\n",
              "          const docLink = document.createElement('div');\n",
              "          docLink.innerHTML = docLinkHtml;\n",
              "          element.appendChild(docLink);\n",
              "        }\n",
              "      </script>\n",
              "    </div>\n",
              "  </div>\n",
              "  "
            ]
          },
          "metadata": {},
          "execution_count": 10
        }
      ]
    },
    {
      "cell_type": "markdown",
      "source": [
        "### Converting to unicode"
      ],
      "metadata": {
        "id": "rycdIfh87dub"
      }
    },
    {
      "cell_type": "code",
      "source": [
        "data_df['uni_text'] = data_df['text'].apply(lambda x: unidecode(x))"
      ],
      "metadata": {
        "id": "fR4XM--_7haK"
      },
      "execution_count": null,
      "outputs": []
    },
    {
      "cell_type": "code",
      "source": [
        "data_df"
      ],
      "metadata": {
        "colab": {
          "base_uri": "https://localhost:8080/",
          "height": 424
        },
        "id": "84woaE_t7zOB",
        "outputId": "a8930f19-483a-4aa6-b2e4-b18ee898cdff"
      },
      "execution_count": null,
      "outputs": [
        {
          "output_type": "execute_result",
          "data": {
            "text/plain": [
              "                                                     text        class  \\\n",
              "0       Ex Wife Threatening SuicideRecently I left my ...      suicide   \n",
              "1       Am I weird I don't get affected by compliments...  non-suicide   \n",
              "2       Finally 2020 is almost over... So I can never ...  non-suicide   \n",
              "3               i need helpjust help me im crying so hard      suicide   \n",
              "4       I’m so lostHello, my name is Adam (16) and I’v...      suicide   \n",
              "...                                                   ...          ...   \n",
              "232069  If you don't like rock then your not going to ...  non-suicide   \n",
              "232070  You how you can tell i have so many friends an...  non-suicide   \n",
              "232071  pee probably tastes like salty tea😏💦‼️ can som...  non-suicide   \n",
              "232072  The usual stuff you find hereI'm not posting t...      suicide   \n",
              "232073  I still haven't beaten the first boss in Hollo...  non-suicide   \n",
              "\n",
              "        encoded_class                                           uni_text  \n",
              "0                   1  Ex Wife Threatening SuicideRecently I left my ...  \n",
              "1                   0  Am I weird I don't get affected by compliments...  \n",
              "2                   0  Finally 2020 is almost over... So I can never ...  \n",
              "3                   1          i need helpjust help me im crying so hard  \n",
              "4                   1  I'm so lostHello, my name is Adam (16) and I'v...  \n",
              "...               ...                                                ...  \n",
              "232069              0  If you don't like rock then your not going to ...  \n",
              "232070              0  You how you can tell i have so many friends an...  \n",
              "232071              0  pee probably tastes like salty tea!! can someo...  \n",
              "232072              1  The usual stuff you find hereI'm not posting t...  \n",
              "232073              0  I still haven't beaten the first boss in Hollo...  \n",
              "\n",
              "[232074 rows x 4 columns]"
            ],
            "text/html": [
              "\n",
              "  <div id=\"df-5ccd1115-567f-4bd1-b7cf-378fa942a26b\">\n",
              "    <div class=\"colab-df-container\">\n",
              "      <div>\n",
              "<style scoped>\n",
              "    .dataframe tbody tr th:only-of-type {\n",
              "        vertical-align: middle;\n",
              "    }\n",
              "\n",
              "    .dataframe tbody tr th {\n",
              "        vertical-align: top;\n",
              "    }\n",
              "\n",
              "    .dataframe thead th {\n",
              "        text-align: right;\n",
              "    }\n",
              "</style>\n",
              "<table border=\"1\" class=\"dataframe\">\n",
              "  <thead>\n",
              "    <tr style=\"text-align: right;\">\n",
              "      <th></th>\n",
              "      <th>text</th>\n",
              "      <th>class</th>\n",
              "      <th>encoded_class</th>\n",
              "      <th>uni_text</th>\n",
              "    </tr>\n",
              "  </thead>\n",
              "  <tbody>\n",
              "    <tr>\n",
              "      <th>0</th>\n",
              "      <td>Ex Wife Threatening SuicideRecently I left my ...</td>\n",
              "      <td>suicide</td>\n",
              "      <td>1</td>\n",
              "      <td>Ex Wife Threatening SuicideRecently I left my ...</td>\n",
              "    </tr>\n",
              "    <tr>\n",
              "      <th>1</th>\n",
              "      <td>Am I weird I don't get affected by compliments...</td>\n",
              "      <td>non-suicide</td>\n",
              "      <td>0</td>\n",
              "      <td>Am I weird I don't get affected by compliments...</td>\n",
              "    </tr>\n",
              "    <tr>\n",
              "      <th>2</th>\n",
              "      <td>Finally 2020 is almost over... So I can never ...</td>\n",
              "      <td>non-suicide</td>\n",
              "      <td>0</td>\n",
              "      <td>Finally 2020 is almost over... So I can never ...</td>\n",
              "    </tr>\n",
              "    <tr>\n",
              "      <th>3</th>\n",
              "      <td>i need helpjust help me im crying so hard</td>\n",
              "      <td>suicide</td>\n",
              "      <td>1</td>\n",
              "      <td>i need helpjust help me im crying so hard</td>\n",
              "    </tr>\n",
              "    <tr>\n",
              "      <th>4</th>\n",
              "      <td>I’m so lostHello, my name is Adam (16) and I’v...</td>\n",
              "      <td>suicide</td>\n",
              "      <td>1</td>\n",
              "      <td>I'm so lostHello, my name is Adam (16) and I'v...</td>\n",
              "    </tr>\n",
              "    <tr>\n",
              "      <th>...</th>\n",
              "      <td>...</td>\n",
              "      <td>...</td>\n",
              "      <td>...</td>\n",
              "      <td>...</td>\n",
              "    </tr>\n",
              "    <tr>\n",
              "      <th>232069</th>\n",
              "      <td>If you don't like rock then your not going to ...</td>\n",
              "      <td>non-suicide</td>\n",
              "      <td>0</td>\n",
              "      <td>If you don't like rock then your not going to ...</td>\n",
              "    </tr>\n",
              "    <tr>\n",
              "      <th>232070</th>\n",
              "      <td>You how you can tell i have so many friends an...</td>\n",
              "      <td>non-suicide</td>\n",
              "      <td>0</td>\n",
              "      <td>You how you can tell i have so many friends an...</td>\n",
              "    </tr>\n",
              "    <tr>\n",
              "      <th>232071</th>\n",
              "      <td>pee probably tastes like salty tea😏💦‼️ can som...</td>\n",
              "      <td>non-suicide</td>\n",
              "      <td>0</td>\n",
              "      <td>pee probably tastes like salty tea!! can someo...</td>\n",
              "    </tr>\n",
              "    <tr>\n",
              "      <th>232072</th>\n",
              "      <td>The usual stuff you find hereI'm not posting t...</td>\n",
              "      <td>suicide</td>\n",
              "      <td>1</td>\n",
              "      <td>The usual stuff you find hereI'm not posting t...</td>\n",
              "    </tr>\n",
              "    <tr>\n",
              "      <th>232073</th>\n",
              "      <td>I still haven't beaten the first boss in Hollo...</td>\n",
              "      <td>non-suicide</td>\n",
              "      <td>0</td>\n",
              "      <td>I still haven't beaten the first boss in Hollo...</td>\n",
              "    </tr>\n",
              "  </tbody>\n",
              "</table>\n",
              "<p>232074 rows × 4 columns</p>\n",
              "</div>\n",
              "      <button class=\"colab-df-convert\" onclick=\"convertToInteractive('df-5ccd1115-567f-4bd1-b7cf-378fa942a26b')\"\n",
              "              title=\"Convert this dataframe to an interactive table.\"\n",
              "              style=\"display:none;\">\n",
              "        \n",
              "  <svg xmlns=\"http://www.w3.org/2000/svg\" height=\"24px\"viewBox=\"0 0 24 24\"\n",
              "       width=\"24px\">\n",
              "    <path d=\"M0 0h24v24H0V0z\" fill=\"none\"/>\n",
              "    <path d=\"M18.56 5.44l.94 2.06.94-2.06 2.06-.94-2.06-.94-.94-2.06-.94 2.06-2.06.94zm-11 1L8.5 8.5l.94-2.06 2.06-.94-2.06-.94L8.5 2.5l-.94 2.06-2.06.94zm10 10l.94 2.06.94-2.06 2.06-.94-2.06-.94-.94-2.06-.94 2.06-2.06.94z\"/><path d=\"M17.41 7.96l-1.37-1.37c-.4-.4-.92-.59-1.43-.59-.52 0-1.04.2-1.43.59L10.3 9.45l-7.72 7.72c-.78.78-.78 2.05 0 2.83L4 21.41c.39.39.9.59 1.41.59.51 0 1.02-.2 1.41-.59l7.78-7.78 2.81-2.81c.8-.78.8-2.07 0-2.86zM5.41 20L4 18.59l7.72-7.72 1.47 1.35L5.41 20z\"/>\n",
              "  </svg>\n",
              "      </button>\n",
              "      \n",
              "  <style>\n",
              "    .colab-df-container {\n",
              "      display:flex;\n",
              "      flex-wrap:wrap;\n",
              "      gap: 12px;\n",
              "    }\n",
              "\n",
              "    .colab-df-convert {\n",
              "      background-color: #E8F0FE;\n",
              "      border: none;\n",
              "      border-radius: 50%;\n",
              "      cursor: pointer;\n",
              "      display: none;\n",
              "      fill: #1967D2;\n",
              "      height: 32px;\n",
              "      padding: 0 0 0 0;\n",
              "      width: 32px;\n",
              "    }\n",
              "\n",
              "    .colab-df-convert:hover {\n",
              "      background-color: #E2EBFA;\n",
              "      box-shadow: 0px 1px 2px rgba(60, 64, 67, 0.3), 0px 1px 3px 1px rgba(60, 64, 67, 0.15);\n",
              "      fill: #174EA6;\n",
              "    }\n",
              "\n",
              "    [theme=dark] .colab-df-convert {\n",
              "      background-color: #3B4455;\n",
              "      fill: #D2E3FC;\n",
              "    }\n",
              "\n",
              "    [theme=dark] .colab-df-convert:hover {\n",
              "      background-color: #434B5C;\n",
              "      box-shadow: 0px 1px 3px 1px rgba(0, 0, 0, 0.15);\n",
              "      filter: drop-shadow(0px 1px 2px rgba(0, 0, 0, 0.3));\n",
              "      fill: #FFFFFF;\n",
              "    }\n",
              "  </style>\n",
              "\n",
              "      <script>\n",
              "        const buttonEl =\n",
              "          document.querySelector('#df-5ccd1115-567f-4bd1-b7cf-378fa942a26b button.colab-df-convert');\n",
              "        buttonEl.style.display =\n",
              "          google.colab.kernel.accessAllowed ? 'block' : 'none';\n",
              "\n",
              "        async function convertToInteractive(key) {\n",
              "          const element = document.querySelector('#df-5ccd1115-567f-4bd1-b7cf-378fa942a26b');\n",
              "          const dataTable =\n",
              "            await google.colab.kernel.invokeFunction('convertToInteractive',\n",
              "                                                     [key], {});\n",
              "          if (!dataTable) return;\n",
              "\n",
              "          const docLinkHtml = 'Like what you see? Visit the ' +\n",
              "            '<a target=\"_blank\" href=https://colab.research.google.com/notebooks/data_table.ipynb>data table notebook</a>'\n",
              "            + ' to learn more about interactive tables.';\n",
              "          element.innerHTML = '';\n",
              "          dataTable['output_type'] = 'display_data';\n",
              "          await google.colab.output.renderOutput(dataTable, element);\n",
              "          const docLink = document.createElement('div');\n",
              "          docLink.innerHTML = docLinkHtml;\n",
              "          element.appendChild(docLink);\n",
              "        }\n",
              "      </script>\n",
              "    </div>\n",
              "  </div>\n",
              "  "
            ]
          },
          "metadata": {},
          "execution_count": 18
        }
      ]
    },
    {
      "cell_type": "markdown",
      "source": [
        "### Converting Emojis & Removing Punctuation"
      ],
      "metadata": {
        "id": "ZCxYr-AeFpiR"
      }
    },
    {
      "cell_type": "code",
      "source": [
        "def convert_emojis(text):\n",
        "    rem_punc_text = text.translate(str.maketrans('', '', string.punctuation))\n",
        "    text_split = list(rem_punc_text)\n",
        "    for i, item in enumerate(text_split):\n",
        "        if item in UNICODE_EMOJI.keys():\n",
        "            text_split[i] = \" \" + UNICODE_EMOJI[item].replace(\",\", \"\").replace(\":\", \"\").replace(\"_\", \" \") + \" \"\n",
        "\n",
        "    conv_text = \"\".join(text_split).strip()\n",
        "    return conv_text"
      ],
      "metadata": {
        "id": "M6jIvN3aHnTJ"
      },
      "execution_count": null,
      "outputs": []
    },
    {
      "cell_type": "code",
      "source": [
        "# 29 seconds\n",
        "data_df['conv_emojis'] = data_df['uni_text'].apply(lambda x: convert_emojis(x))"
      ],
      "metadata": {
        "id": "wZi9wh1MIy1r"
      },
      "execution_count": null,
      "outputs": []
    },
    {
      "cell_type": "code",
      "source": [
        "data_df"
      ],
      "metadata": {
        "colab": {
          "base_uri": "https://localhost:8080/",
          "height": 641
        },
        "id": "4vgjaA4eFWYv",
        "outputId": "8c6cf07a-9016-4625-d614-2a31c9e11d94"
      },
      "execution_count": null,
      "outputs": [
        {
          "output_type": "execute_result",
          "data": {
            "text/plain": [
              "                                                     text        class  \\\n",
              "0       Ex Wife Threatening SuicideRecently I left my ...      suicide   \n",
              "1       Am I weird I don't get affected by compliments...  non-suicide   \n",
              "2       Finally 2020 is almost over... So I can never ...  non-suicide   \n",
              "3               i need helpjust help me im crying so hard      suicide   \n",
              "4       I’m so lostHello, my name is Adam (16) and I’v...      suicide   \n",
              "...                                                   ...          ...   \n",
              "232069  If you don't like rock then your not going to ...  non-suicide   \n",
              "232070  You how you can tell i have so many friends an...  non-suicide   \n",
              "232071  pee probably tastes like salty tea😏💦‼️ can som...  non-suicide   \n",
              "232072  The usual stuff you find hereI'm not posting t...      suicide   \n",
              "232073  I still haven't beaten the first boss in Hollo...  non-suicide   \n",
              "\n",
              "        encoded_class                                           uni_text  \\\n",
              "0                   1  Ex Wife Threatening SuicideRecently I left my ...   \n",
              "1                   0  Am I weird I don't get affected by compliments...   \n",
              "2                   0  Finally 2020 is almost over... So I can never ...   \n",
              "3                   1          i need helpjust help me im crying so hard   \n",
              "4                   1  I'm so lostHello, my name is Adam (16) and I'v...   \n",
              "...               ...                                                ...   \n",
              "232069              0  If you don't like rock then your not going to ...   \n",
              "232070              0  You how you can tell i have so many friends an...   \n",
              "232071              0  pee probably tastes like salty tea!! can someo...   \n",
              "232072              1  The usual stuff you find hereI'm not posting t...   \n",
              "232073              0  I still haven't beaten the first boss in Hollo...   \n",
              "\n",
              "                                              conv_emojis  \n",
              "0       Ex Wife Threatening SuicideRecently I left my ...  \n",
              "1       Am I weird I dont get affected by compliments ...  \n",
              "2       Finally 2020 is almost over So I can never hea...  \n",
              "3               i need helpjust help me im crying so hard  \n",
              "4       Im so lostHello my name is Adam 16 and Ive bee...  \n",
              "...                                                   ...  \n",
              "232069  If you dont like rock then your not going to g...  \n",
              "232070  You how you can tell i have so many friends an...  \n",
              "232071  pee probably tastes like salty tea can someone...  \n",
              "232072  The usual stuff you find hereIm not posting th...  \n",
              "232073  I still havent beaten the first boss in Hollow...  \n",
              "\n",
              "[232074 rows x 5 columns]"
            ],
            "text/html": [
              "\n",
              "  <div id=\"df-9cb351d0-74d6-4f61-a143-fb50ca4fac24\">\n",
              "    <div class=\"colab-df-container\">\n",
              "      <div>\n",
              "<style scoped>\n",
              "    .dataframe tbody tr th:only-of-type {\n",
              "        vertical-align: middle;\n",
              "    }\n",
              "\n",
              "    .dataframe tbody tr th {\n",
              "        vertical-align: top;\n",
              "    }\n",
              "\n",
              "    .dataframe thead th {\n",
              "        text-align: right;\n",
              "    }\n",
              "</style>\n",
              "<table border=\"1\" class=\"dataframe\">\n",
              "  <thead>\n",
              "    <tr style=\"text-align: right;\">\n",
              "      <th></th>\n",
              "      <th>text</th>\n",
              "      <th>class</th>\n",
              "      <th>encoded_class</th>\n",
              "      <th>uni_text</th>\n",
              "      <th>conv_emojis</th>\n",
              "    </tr>\n",
              "  </thead>\n",
              "  <tbody>\n",
              "    <tr>\n",
              "      <th>0</th>\n",
              "      <td>Ex Wife Threatening SuicideRecently I left my ...</td>\n",
              "      <td>suicide</td>\n",
              "      <td>1</td>\n",
              "      <td>Ex Wife Threatening SuicideRecently I left my ...</td>\n",
              "      <td>Ex Wife Threatening SuicideRecently I left my ...</td>\n",
              "    </tr>\n",
              "    <tr>\n",
              "      <th>1</th>\n",
              "      <td>Am I weird I don't get affected by compliments...</td>\n",
              "      <td>non-suicide</td>\n",
              "      <td>0</td>\n",
              "      <td>Am I weird I don't get affected by compliments...</td>\n",
              "      <td>Am I weird I dont get affected by compliments ...</td>\n",
              "    </tr>\n",
              "    <tr>\n",
              "      <th>2</th>\n",
              "      <td>Finally 2020 is almost over... So I can never ...</td>\n",
              "      <td>non-suicide</td>\n",
              "      <td>0</td>\n",
              "      <td>Finally 2020 is almost over... So I can never ...</td>\n",
              "      <td>Finally 2020 is almost over So I can never hea...</td>\n",
              "    </tr>\n",
              "    <tr>\n",
              "      <th>3</th>\n",
              "      <td>i need helpjust help me im crying so hard</td>\n",
              "      <td>suicide</td>\n",
              "      <td>1</td>\n",
              "      <td>i need helpjust help me im crying so hard</td>\n",
              "      <td>i need helpjust help me im crying so hard</td>\n",
              "    </tr>\n",
              "    <tr>\n",
              "      <th>4</th>\n",
              "      <td>I’m so lostHello, my name is Adam (16) and I’v...</td>\n",
              "      <td>suicide</td>\n",
              "      <td>1</td>\n",
              "      <td>I'm so lostHello, my name is Adam (16) and I'v...</td>\n",
              "      <td>Im so lostHello my name is Adam 16 and Ive bee...</td>\n",
              "    </tr>\n",
              "    <tr>\n",
              "      <th>...</th>\n",
              "      <td>...</td>\n",
              "      <td>...</td>\n",
              "      <td>...</td>\n",
              "      <td>...</td>\n",
              "      <td>...</td>\n",
              "    </tr>\n",
              "    <tr>\n",
              "      <th>232069</th>\n",
              "      <td>If you don't like rock then your not going to ...</td>\n",
              "      <td>non-suicide</td>\n",
              "      <td>0</td>\n",
              "      <td>If you don't like rock then your not going to ...</td>\n",
              "      <td>If you dont like rock then your not going to g...</td>\n",
              "    </tr>\n",
              "    <tr>\n",
              "      <th>232070</th>\n",
              "      <td>You how you can tell i have so many friends an...</td>\n",
              "      <td>non-suicide</td>\n",
              "      <td>0</td>\n",
              "      <td>You how you can tell i have so many friends an...</td>\n",
              "      <td>You how you can tell i have so many friends an...</td>\n",
              "    </tr>\n",
              "    <tr>\n",
              "      <th>232071</th>\n",
              "      <td>pee probably tastes like salty tea😏💦‼️ can som...</td>\n",
              "      <td>non-suicide</td>\n",
              "      <td>0</td>\n",
              "      <td>pee probably tastes like salty tea!! can someo...</td>\n",
              "      <td>pee probably tastes like salty tea can someone...</td>\n",
              "    </tr>\n",
              "    <tr>\n",
              "      <th>232072</th>\n",
              "      <td>The usual stuff you find hereI'm not posting t...</td>\n",
              "      <td>suicide</td>\n",
              "      <td>1</td>\n",
              "      <td>The usual stuff you find hereI'm not posting t...</td>\n",
              "      <td>The usual stuff you find hereIm not posting th...</td>\n",
              "    </tr>\n",
              "    <tr>\n",
              "      <th>232073</th>\n",
              "      <td>I still haven't beaten the first boss in Hollo...</td>\n",
              "      <td>non-suicide</td>\n",
              "      <td>0</td>\n",
              "      <td>I still haven't beaten the first boss in Hollo...</td>\n",
              "      <td>I still havent beaten the first boss in Hollow...</td>\n",
              "    </tr>\n",
              "  </tbody>\n",
              "</table>\n",
              "<p>232074 rows × 5 columns</p>\n",
              "</div>\n",
              "      <button class=\"colab-df-convert\" onclick=\"convertToInteractive('df-9cb351d0-74d6-4f61-a143-fb50ca4fac24')\"\n",
              "              title=\"Convert this dataframe to an interactive table.\"\n",
              "              style=\"display:none;\">\n",
              "        \n",
              "  <svg xmlns=\"http://www.w3.org/2000/svg\" height=\"24px\"viewBox=\"0 0 24 24\"\n",
              "       width=\"24px\">\n",
              "    <path d=\"M0 0h24v24H0V0z\" fill=\"none\"/>\n",
              "    <path d=\"M18.56 5.44l.94 2.06.94-2.06 2.06-.94-2.06-.94-.94-2.06-.94 2.06-2.06.94zm-11 1L8.5 8.5l.94-2.06 2.06-.94-2.06-.94L8.5 2.5l-.94 2.06-2.06.94zm10 10l.94 2.06.94-2.06 2.06-.94-2.06-.94-.94-2.06-.94 2.06-2.06.94z\"/><path d=\"M17.41 7.96l-1.37-1.37c-.4-.4-.92-.59-1.43-.59-.52 0-1.04.2-1.43.59L10.3 9.45l-7.72 7.72c-.78.78-.78 2.05 0 2.83L4 21.41c.39.39.9.59 1.41.59.51 0 1.02-.2 1.41-.59l7.78-7.78 2.81-2.81c.8-.78.8-2.07 0-2.86zM5.41 20L4 18.59l7.72-7.72 1.47 1.35L5.41 20z\"/>\n",
              "  </svg>\n",
              "      </button>\n",
              "      \n",
              "  <style>\n",
              "    .colab-df-container {\n",
              "      display:flex;\n",
              "      flex-wrap:wrap;\n",
              "      gap: 12px;\n",
              "    }\n",
              "\n",
              "    .colab-df-convert {\n",
              "      background-color: #E8F0FE;\n",
              "      border: none;\n",
              "      border-radius: 50%;\n",
              "      cursor: pointer;\n",
              "      display: none;\n",
              "      fill: #1967D2;\n",
              "      height: 32px;\n",
              "      padding: 0 0 0 0;\n",
              "      width: 32px;\n",
              "    }\n",
              "\n",
              "    .colab-df-convert:hover {\n",
              "      background-color: #E2EBFA;\n",
              "      box-shadow: 0px 1px 2px rgba(60, 64, 67, 0.3), 0px 1px 3px 1px rgba(60, 64, 67, 0.15);\n",
              "      fill: #174EA6;\n",
              "    }\n",
              "\n",
              "    [theme=dark] .colab-df-convert {\n",
              "      background-color: #3B4455;\n",
              "      fill: #D2E3FC;\n",
              "    }\n",
              "\n",
              "    [theme=dark] .colab-df-convert:hover {\n",
              "      background-color: #434B5C;\n",
              "      box-shadow: 0px 1px 3px 1px rgba(0, 0, 0, 0.15);\n",
              "      filter: drop-shadow(0px 1px 2px rgba(0, 0, 0, 0.3));\n",
              "      fill: #FFFFFF;\n",
              "    }\n",
              "  </style>\n",
              "\n",
              "      <script>\n",
              "        const buttonEl =\n",
              "          document.querySelector('#df-9cb351d0-74d6-4f61-a143-fb50ca4fac24 button.colab-df-convert');\n",
              "        buttonEl.style.display =\n",
              "          google.colab.kernel.accessAllowed ? 'block' : 'none';\n",
              "\n",
              "        async function convertToInteractive(key) {\n",
              "          const element = document.querySelector('#df-9cb351d0-74d6-4f61-a143-fb50ca4fac24');\n",
              "          const dataTable =\n",
              "            await google.colab.kernel.invokeFunction('convertToInteractive',\n",
              "                                                     [key], {});\n",
              "          if (!dataTable) return;\n",
              "\n",
              "          const docLinkHtml = 'Like what you see? Visit the ' +\n",
              "            '<a target=\"_blank\" href=https://colab.research.google.com/notebooks/data_table.ipynb>data table notebook</a>'\n",
              "            + ' to learn more about interactive tables.';\n",
              "          element.innerHTML = '';\n",
              "          dataTable['output_type'] = 'display_data';\n",
              "          await google.colab.output.renderOutput(dataTable, element);\n",
              "          const docLink = document.createElement('div');\n",
              "          docLink.innerHTML = docLinkHtml;\n",
              "          element.appendChild(docLink);\n",
              "        }\n",
              "      </script>\n",
              "    </div>\n",
              "  </div>\n",
              "  "
            ]
          },
          "metadata": {},
          "execution_count": 14
        }
      ]
    },
    {
      "cell_type": "markdown",
      "source": [
        "### Converting to lowercase"
      ],
      "metadata": {
        "id": "k96LUPsM8efP"
      }
    },
    {
      "cell_type": "code",
      "source": [
        "data_df['lower_text'] = data_df['conv_emojis'].apply(lambda x: x.lower())"
      ],
      "metadata": {
        "id": "bCkGVYdx8hrK"
      },
      "execution_count": null,
      "outputs": []
    },
    {
      "cell_type": "code",
      "source": [
        "data_df"
      ],
      "metadata": {
        "colab": {
          "base_uri": "https://localhost:8080/",
          "height": 798
        },
        "id": "oR3x5CRy8sX5",
        "outputId": "46738345-4255-4d79-efd8-045e497c1d41"
      },
      "execution_count": null,
      "outputs": [
        {
          "output_type": "execute_result",
          "data": {
            "text/plain": [
              "                                                     text        class  \\\n",
              "0       Ex Wife Threatening SuicideRecently I left my ...      suicide   \n",
              "1       Am I weird I don't get affected by compliments...  non-suicide   \n",
              "2       Finally 2020 is almost over... So I can never ...  non-suicide   \n",
              "3               i need helpjust help me im crying so hard      suicide   \n",
              "4       I’m so lostHello, my name is Adam (16) and I’v...      suicide   \n",
              "...                                                   ...          ...   \n",
              "232069  If you don't like rock then your not going to ...  non-suicide   \n",
              "232070  You how you can tell i have so many friends an...  non-suicide   \n",
              "232071  pee probably tastes like salty tea😏💦‼️ can som...  non-suicide   \n",
              "232072  The usual stuff you find hereI'm not posting t...      suicide   \n",
              "232073  I still haven't beaten the first boss in Hollo...  non-suicide   \n",
              "\n",
              "        encoded_class                                           uni_text  \\\n",
              "0                   1  Ex Wife Threatening SuicideRecently I left my ...   \n",
              "1                   0  Am I weird I don't get affected by compliments...   \n",
              "2                   0  Finally 2020 is almost over... So I can never ...   \n",
              "3                   1          i need helpjust help me im crying so hard   \n",
              "4                   1  I'm so lostHello, my name is Adam (16) and I'v...   \n",
              "...               ...                                                ...   \n",
              "232069              0  If you don't like rock then your not going to ...   \n",
              "232070              0  You how you can tell i have so many friends an...   \n",
              "232071              0  pee probably tastes like salty tea!! can someo...   \n",
              "232072              1  The usual stuff you find hereI'm not posting t...   \n",
              "232073              0  I still haven't beaten the first boss in Hollo...   \n",
              "\n",
              "                                              conv_emojis  \\\n",
              "0       Ex Wife Threatening SuicideRecently I left my ...   \n",
              "1       Am I weird I dont get affected by compliments ...   \n",
              "2       Finally 2020 is almost over So I can never hea...   \n",
              "3               i need helpjust help me im crying so hard   \n",
              "4       Im so lostHello my name is Adam 16 and Ive bee...   \n",
              "...                                                   ...   \n",
              "232069  If you dont like rock then your not going to g...   \n",
              "232070  You how you can tell i have so many friends an...   \n",
              "232071  pee probably tastes like salty tea can someone...   \n",
              "232072  The usual stuff you find hereIm not posting th...   \n",
              "232073  I still havent beaten the first boss in Hollow...   \n",
              "\n",
              "                                            spell_checked  \\\n",
              "0       of life threatening SuicideRecently a left my ...   \n",
              "1       pm a weird a done get affected by compliments ...   \n",
              "2       finally 2020 is almost over to a can never hea...   \n",
              "3               i need helpjust help me in crying so hard   \n",
              "4       pm so costello my name is adam of and ave been...   \n",
              "...                                                   ...   \n",
              "232069  of you done like rock then your not going to g...   \n",
              "232070  you how you can tell i have so many friends an...   \n",
              "232071  pee probably tastes like salty tea can someone...   \n",
              "232072  the usual stuff you find here not posting this...   \n",
              "232073  a still haven beaten the first boss in follow ...   \n",
              "\n",
              "                                               lower_text  \n",
              "0       ex wife threatening suiciderecently i left my ...  \n",
              "1       am i weird i dont get affected by compliments ...  \n",
              "2       finally 2020 is almost over so i can never hea...  \n",
              "3               i need helpjust help me im crying so hard  \n",
              "4       im so losthello my name is adam 16 and ive bee...  \n",
              "...                                                   ...  \n",
              "232069  if you dont like rock then your not going to g...  \n",
              "232070  you how you can tell i have so many friends an...  \n",
              "232071  pee probably tastes like salty tea can someone...  \n",
              "232072  the usual stuff you find hereim not posting th...  \n",
              "232073  i still havent beaten the first boss in hollow...  \n",
              "\n",
              "[232074 rows x 7 columns]"
            ],
            "text/html": [
              "\n",
              "  <div id=\"df-9733cd93-6ec9-4bcb-9ea2-79955197dc1d\">\n",
              "    <div class=\"colab-df-container\">\n",
              "      <div>\n",
              "<style scoped>\n",
              "    .dataframe tbody tr th:only-of-type {\n",
              "        vertical-align: middle;\n",
              "    }\n",
              "\n",
              "    .dataframe tbody tr th {\n",
              "        vertical-align: top;\n",
              "    }\n",
              "\n",
              "    .dataframe thead th {\n",
              "        text-align: right;\n",
              "    }\n",
              "</style>\n",
              "<table border=\"1\" class=\"dataframe\">\n",
              "  <thead>\n",
              "    <tr style=\"text-align: right;\">\n",
              "      <th></th>\n",
              "      <th>text</th>\n",
              "      <th>class</th>\n",
              "      <th>encoded_class</th>\n",
              "      <th>uni_text</th>\n",
              "      <th>conv_emojis</th>\n",
              "      <th>spell_checked</th>\n",
              "      <th>lower_text</th>\n",
              "    </tr>\n",
              "  </thead>\n",
              "  <tbody>\n",
              "    <tr>\n",
              "      <th>0</th>\n",
              "      <td>Ex Wife Threatening SuicideRecently I left my ...</td>\n",
              "      <td>suicide</td>\n",
              "      <td>1</td>\n",
              "      <td>Ex Wife Threatening SuicideRecently I left my ...</td>\n",
              "      <td>Ex Wife Threatening SuicideRecently I left my ...</td>\n",
              "      <td>of life threatening SuicideRecently a left my ...</td>\n",
              "      <td>ex wife threatening suiciderecently i left my ...</td>\n",
              "    </tr>\n",
              "    <tr>\n",
              "      <th>1</th>\n",
              "      <td>Am I weird I don't get affected by compliments...</td>\n",
              "      <td>non-suicide</td>\n",
              "      <td>0</td>\n",
              "      <td>Am I weird I don't get affected by compliments...</td>\n",
              "      <td>Am I weird I dont get affected by compliments ...</td>\n",
              "      <td>pm a weird a done get affected by compliments ...</td>\n",
              "      <td>am i weird i dont get affected by compliments ...</td>\n",
              "    </tr>\n",
              "    <tr>\n",
              "      <th>2</th>\n",
              "      <td>Finally 2020 is almost over... So I can never ...</td>\n",
              "      <td>non-suicide</td>\n",
              "      <td>0</td>\n",
              "      <td>Finally 2020 is almost over... So I can never ...</td>\n",
              "      <td>Finally 2020 is almost over So I can never hea...</td>\n",
              "      <td>finally 2020 is almost over to a can never hea...</td>\n",
              "      <td>finally 2020 is almost over so i can never hea...</td>\n",
              "    </tr>\n",
              "    <tr>\n",
              "      <th>3</th>\n",
              "      <td>i need helpjust help me im crying so hard</td>\n",
              "      <td>suicide</td>\n",
              "      <td>1</td>\n",
              "      <td>i need helpjust help me im crying so hard</td>\n",
              "      <td>i need helpjust help me im crying so hard</td>\n",
              "      <td>i need helpjust help me in crying so hard</td>\n",
              "      <td>i need helpjust help me im crying so hard</td>\n",
              "    </tr>\n",
              "    <tr>\n",
              "      <th>4</th>\n",
              "      <td>I’m so lostHello, my name is Adam (16) and I’v...</td>\n",
              "      <td>suicide</td>\n",
              "      <td>1</td>\n",
              "      <td>I'm so lostHello, my name is Adam (16) and I'v...</td>\n",
              "      <td>Im so lostHello my name is Adam 16 and Ive bee...</td>\n",
              "      <td>pm so costello my name is adam of and ave been...</td>\n",
              "      <td>im so losthello my name is adam 16 and ive bee...</td>\n",
              "    </tr>\n",
              "    <tr>\n",
              "      <th>...</th>\n",
              "      <td>...</td>\n",
              "      <td>...</td>\n",
              "      <td>...</td>\n",
              "      <td>...</td>\n",
              "      <td>...</td>\n",
              "      <td>...</td>\n",
              "      <td>...</td>\n",
              "    </tr>\n",
              "    <tr>\n",
              "      <th>232069</th>\n",
              "      <td>If you don't like rock then your not going to ...</td>\n",
              "      <td>non-suicide</td>\n",
              "      <td>0</td>\n",
              "      <td>If you don't like rock then your not going to ...</td>\n",
              "      <td>If you dont like rock then your not going to g...</td>\n",
              "      <td>of you done like rock then your not going to g...</td>\n",
              "      <td>if you dont like rock then your not going to g...</td>\n",
              "    </tr>\n",
              "    <tr>\n",
              "      <th>232070</th>\n",
              "      <td>You how you can tell i have so many friends an...</td>\n",
              "      <td>non-suicide</td>\n",
              "      <td>0</td>\n",
              "      <td>You how you can tell i have so many friends an...</td>\n",
              "      <td>You how you can tell i have so many friends an...</td>\n",
              "      <td>you how you can tell i have so many friends an...</td>\n",
              "      <td>you how you can tell i have so many friends an...</td>\n",
              "    </tr>\n",
              "    <tr>\n",
              "      <th>232071</th>\n",
              "      <td>pee probably tastes like salty tea😏💦‼️ can som...</td>\n",
              "      <td>non-suicide</td>\n",
              "      <td>0</td>\n",
              "      <td>pee probably tastes like salty tea!! can someo...</td>\n",
              "      <td>pee probably tastes like salty tea can someone...</td>\n",
              "      <td>pee probably tastes like salty tea can someone...</td>\n",
              "      <td>pee probably tastes like salty tea can someone...</td>\n",
              "    </tr>\n",
              "    <tr>\n",
              "      <th>232072</th>\n",
              "      <td>The usual stuff you find hereI'm not posting t...</td>\n",
              "      <td>suicide</td>\n",
              "      <td>1</td>\n",
              "      <td>The usual stuff you find hereI'm not posting t...</td>\n",
              "      <td>The usual stuff you find hereIm not posting th...</td>\n",
              "      <td>the usual stuff you find here not posting this...</td>\n",
              "      <td>the usual stuff you find hereim not posting th...</td>\n",
              "    </tr>\n",
              "    <tr>\n",
              "      <th>232073</th>\n",
              "      <td>I still haven't beaten the first boss in Hollo...</td>\n",
              "      <td>non-suicide</td>\n",
              "      <td>0</td>\n",
              "      <td>I still haven't beaten the first boss in Hollo...</td>\n",
              "      <td>I still havent beaten the first boss in Hollow...</td>\n",
              "      <td>a still haven beaten the first boss in follow ...</td>\n",
              "      <td>i still havent beaten the first boss in hollow...</td>\n",
              "    </tr>\n",
              "  </tbody>\n",
              "</table>\n",
              "<p>232074 rows × 7 columns</p>\n",
              "</div>\n",
              "      <button class=\"colab-df-convert\" onclick=\"convertToInteractive('df-9733cd93-6ec9-4bcb-9ea2-79955197dc1d')\"\n",
              "              title=\"Convert this dataframe to an interactive table.\"\n",
              "              style=\"display:none;\">\n",
              "        \n",
              "  <svg xmlns=\"http://www.w3.org/2000/svg\" height=\"24px\"viewBox=\"0 0 24 24\"\n",
              "       width=\"24px\">\n",
              "    <path d=\"M0 0h24v24H0V0z\" fill=\"none\"/>\n",
              "    <path d=\"M18.56 5.44l.94 2.06.94-2.06 2.06-.94-2.06-.94-.94-2.06-.94 2.06-2.06.94zm-11 1L8.5 8.5l.94-2.06 2.06-.94-2.06-.94L8.5 2.5l-.94 2.06-2.06.94zm10 10l.94 2.06.94-2.06 2.06-.94-2.06-.94-.94-2.06-.94 2.06-2.06.94z\"/><path d=\"M17.41 7.96l-1.37-1.37c-.4-.4-.92-.59-1.43-.59-.52 0-1.04.2-1.43.59L10.3 9.45l-7.72 7.72c-.78.78-.78 2.05 0 2.83L4 21.41c.39.39.9.59 1.41.59.51 0 1.02-.2 1.41-.59l7.78-7.78 2.81-2.81c.8-.78.8-2.07 0-2.86zM5.41 20L4 18.59l7.72-7.72 1.47 1.35L5.41 20z\"/>\n",
              "  </svg>\n",
              "      </button>\n",
              "      \n",
              "  <style>\n",
              "    .colab-df-container {\n",
              "      display:flex;\n",
              "      flex-wrap:wrap;\n",
              "      gap: 12px;\n",
              "    }\n",
              "\n",
              "    .colab-df-convert {\n",
              "      background-color: #E8F0FE;\n",
              "      border: none;\n",
              "      border-radius: 50%;\n",
              "      cursor: pointer;\n",
              "      display: none;\n",
              "      fill: #1967D2;\n",
              "      height: 32px;\n",
              "      padding: 0 0 0 0;\n",
              "      width: 32px;\n",
              "    }\n",
              "\n",
              "    .colab-df-convert:hover {\n",
              "      background-color: #E2EBFA;\n",
              "      box-shadow: 0px 1px 2px rgba(60, 64, 67, 0.3), 0px 1px 3px 1px rgba(60, 64, 67, 0.15);\n",
              "      fill: #174EA6;\n",
              "    }\n",
              "\n",
              "    [theme=dark] .colab-df-convert {\n",
              "      background-color: #3B4455;\n",
              "      fill: #D2E3FC;\n",
              "    }\n",
              "\n",
              "    [theme=dark] .colab-df-convert:hover {\n",
              "      background-color: #434B5C;\n",
              "      box-shadow: 0px 1px 3px 1px rgba(0, 0, 0, 0.15);\n",
              "      filter: drop-shadow(0px 1px 2px rgba(0, 0, 0, 0.3));\n",
              "      fill: #FFFFFF;\n",
              "    }\n",
              "  </style>\n",
              "\n",
              "      <script>\n",
              "        const buttonEl =\n",
              "          document.querySelector('#df-9733cd93-6ec9-4bcb-9ea2-79955197dc1d button.colab-df-convert');\n",
              "        buttonEl.style.display =\n",
              "          google.colab.kernel.accessAllowed ? 'block' : 'none';\n",
              "\n",
              "        async function convertToInteractive(key) {\n",
              "          const element = document.querySelector('#df-9733cd93-6ec9-4bcb-9ea2-79955197dc1d');\n",
              "          const dataTable =\n",
              "            await google.colab.kernel.invokeFunction('convertToInteractive',\n",
              "                                                     [key], {});\n",
              "          if (!dataTable) return;\n",
              "\n",
              "          const docLinkHtml = 'Like what you see? Visit the ' +\n",
              "            '<a target=\"_blank\" href=https://colab.research.google.com/notebooks/data_table.ipynb>data table notebook</a>'\n",
              "            + ' to learn more about interactive tables.';\n",
              "          element.innerHTML = '';\n",
              "          dataTable['output_type'] = 'display_data';\n",
              "          await google.colab.output.renderOutput(dataTable, element);\n",
              "          const docLink = document.createElement('div');\n",
              "          docLink.innerHTML = docLinkHtml;\n",
              "          element.appendChild(docLink);\n",
              "        }\n",
              "      </script>\n",
              "    </div>\n",
              "  </div>\n",
              "  "
            ]
          },
          "metadata": {},
          "execution_count": 49
        }
      ]
    },
    {
      "cell_type": "markdown",
      "source": [
        "### Checking spelling"
      ],
      "metadata": {
        "id": "G2jne0IuNTkV"
      }
    },
    {
      "cell_type": "code",
      "source": [
        "sym_spell = SymSpell(max_dictionary_edit_distance=2, prefix_length=7)\n",
        "dictionary_path = pkg_resources.resource_filename(\n",
        "    \"symspellpy\", \"frequency_dictionary_en_82_765.txt\"\n",
        ")"
      ],
      "metadata": {
        "id": "xQj11IIINY2W"
      },
      "execution_count": null,
      "outputs": []
    },
    {
      "cell_type": "code",
      "source": [
        "# term_index is the column of the term and count_index is the\n",
        "# column of the term frequency\n",
        "sym_spell.load_dictionary(dictionary_path, term_index=0, count_index=1)"
      ],
      "metadata": {
        "colab": {
          "base_uri": "https://localhost:8080/"
        },
        "id": "zA1yqXRoPmww",
        "outputId": "d1eebf2f-ff86-4558-8d30-cd9bfc2e14ce"
      },
      "execution_count": null,
      "outputs": [
        {
          "output_type": "execute_result",
          "data": {
            "text/plain": [
              "True"
            ]
          },
          "metadata": {},
          "execution_count": 59
        }
      ]
    },
    {
      "cell_type": "code",
      "source": [
        "# lookup suggestions for single-word input strings\n",
        "# max edit distance per lookup\n",
        "# (max_edit_distance_lookup <= max_dictionary_edit_distance)\n",
        "\n",
        "def check_spelling(sentence):\n",
        "  words = sentence.split(\" \")\n",
        "  new_sentence_list = []\n",
        "  for word in words:\n",
        "    suggestions = sym_spell.lookup(word, Verbosity.CLOSEST, max_edit_distance=2)\n",
        "    if len(suggestions) > 0:\n",
        "      new_sentence_list.append(suggestions[0].term)\n",
        "    else:\n",
        "      new_sentence_list.append(word)\n",
        "  new_sentence = ' '.join(new_sentence_list)\n",
        "  return new_sentence"
      ],
      "metadata": {
        "id": "1cstEwwFPos6"
      },
      "execution_count": null,
      "outputs": []
    },
    {
      "cell_type": "code",
      "source": [
        "# suggestions = sym_spell.lookup(\"ex\", Verbosity.CLOSEST, max_edit_distance=1)\n",
        "# for sug in suggestions:\n",
        "#   print(sug)"
      ],
      "metadata": {
        "colab": {
          "base_uri": "https://localhost:8080/"
        },
        "id": "NBo2Y9538y7c",
        "outputId": "8a4a5de9-5a21-4358-a310-525ce1113a6b"
      },
      "execution_count": null,
      "outputs": [
        {
          "output_type": "stream",
          "name": "stdout",
          "text": [
            "sex, 1, 320105999\n",
            "exp, 1, 16394663\n",
            "ext, 1, 11830447\n",
            "tex, 1, 7342192\n",
            "rex, 1, 4659516\n",
            "hex, 1, 4217438\n",
            "exc, 1, 3315237\n",
            "lex, 1, 2424291\n",
            "mex, 1, 1431119\n",
            "vex, 1, 287473\n",
            "exr, 1, 62565\n",
            "kex, 1, 28228\n"
          ]
        }
      ]
    },
    {
      "cell_type": "code",
      "source": [
        "data_df['spell_checked'] = data_df['lower_text'].apply(lambda x: check_spelling(x))"
      ],
      "metadata": {
        "id": "dhkNWiuURHfm"
      },
      "execution_count": null,
      "outputs": []
    },
    {
      "cell_type": "code",
      "source": [
        "data_df"
      ],
      "metadata": {
        "colab": {
          "base_uri": "https://localhost:8080/",
          "height": 798
        },
        "id": "rvQXgIVV2PG-",
        "outputId": "47cfedcc-d822-4e7f-fdf3-b8d10efe4b3e"
      },
      "execution_count": null,
      "outputs": [
        {
          "output_type": "execute_result",
          "data": {
            "text/plain": [
              "                                                     text        class  \\\n",
              "0       Ex Wife Threatening SuicideRecently I left my ...      suicide   \n",
              "1       Am I weird I don't get affected by compliments...  non-suicide   \n",
              "2       Finally 2020 is almost over... So I can never ...  non-suicide   \n",
              "3               i need helpjust help me im crying so hard      suicide   \n",
              "4       I’m so lostHello, my name is Adam (16) and I’v...      suicide   \n",
              "...                                                   ...          ...   \n",
              "232069  If you don't like rock then your not going to ...  non-suicide   \n",
              "232070  You how you can tell i have so many friends an...  non-suicide   \n",
              "232071  pee probably tastes like salty tea😏💦‼️ can som...  non-suicide   \n",
              "232072  The usual stuff you find hereI'm not posting t...      suicide   \n",
              "232073  I still haven't beaten the first boss in Hollo...  non-suicide   \n",
              "\n",
              "        encoded_class                                           uni_text  \\\n",
              "0                   1  Ex Wife Threatening SuicideRecently I left my ...   \n",
              "1                   0  Am I weird I don't get affected by compliments...   \n",
              "2                   0  Finally 2020 is almost over... So I can never ...   \n",
              "3                   1          i need helpjust help me im crying so hard   \n",
              "4                   1  I'm so lostHello, my name is Adam (16) and I'v...   \n",
              "...               ...                                                ...   \n",
              "232069              0  If you don't like rock then your not going to ...   \n",
              "232070              0  You how you can tell i have so many friends an...   \n",
              "232071              0  pee probably tastes like salty tea!! can someo...   \n",
              "232072              1  The usual stuff you find hereI'm not posting t...   \n",
              "232073              0  I still haven't beaten the first boss in Hollo...   \n",
              "\n",
              "                                              conv_emojis  \\\n",
              "0       Ex Wife Threatening SuicideRecently I left my ...   \n",
              "1       Am I weird I dont get affected by compliments ...   \n",
              "2       Finally 2020 is almost over So I can never hea...   \n",
              "3               i need helpjust help me im crying so hard   \n",
              "4       Im so lostHello my name is Adam 16 and Ive bee...   \n",
              "...                                                   ...   \n",
              "232069  If you dont like rock then your not going to g...   \n",
              "232070  You how you can tell i have so many friends an...   \n",
              "232071  pee probably tastes like salty tea can someone...   \n",
              "232072  The usual stuff you find hereIm not posting th...   \n",
              "232073  I still havent beaten the first boss in Hollow...   \n",
              "\n",
              "                                            spell_checked  \\\n",
              "0       sex wife threatening suiciderecently i left my...   \n",
              "1       am i weird i done get affected by compliments ...   \n",
              "2       finally 2020 is almost over so i can never hea...   \n",
              "3               i need helpjust help me in crying so hard   \n",
              "4       in so costello my name is adam of and live bee...   \n",
              "...                                                   ...   \n",
              "232069  if you done like rock then your not going to g...   \n",
              "232070  you how you can tell i have so many friends an...   \n",
              "232071  pee probably tastes like salty tea can someone...   \n",
              "232072  the usual stuff you find herein not posting th...   \n",
              "232073  i still haven beaten the first boss in hollow ...   \n",
              "\n",
              "                                               lower_text  \n",
              "0       ex wife threatening suiciderecently i left my ...  \n",
              "1       am i weird i dont get affected by compliments ...  \n",
              "2       finally 2020 is almost over so i can never hea...  \n",
              "3               i need helpjust help me im crying so hard  \n",
              "4       im so losthello my name is adam 16 and ive bee...  \n",
              "...                                                   ...  \n",
              "232069  if you dont like rock then your not going to g...  \n",
              "232070  you how you can tell i have so many friends an...  \n",
              "232071  pee probably tastes like salty tea can someone...  \n",
              "232072  the usual stuff you find hereim not posting th...  \n",
              "232073  i still havent beaten the first boss in hollow...  \n",
              "\n",
              "[232074 rows x 7 columns]"
            ],
            "text/html": [
              "\n",
              "  <div id=\"df-8320321a-4d7a-4674-8b19-b85d7ede5c42\">\n",
              "    <div class=\"colab-df-container\">\n",
              "      <div>\n",
              "<style scoped>\n",
              "    .dataframe tbody tr th:only-of-type {\n",
              "        vertical-align: middle;\n",
              "    }\n",
              "\n",
              "    .dataframe tbody tr th {\n",
              "        vertical-align: top;\n",
              "    }\n",
              "\n",
              "    .dataframe thead th {\n",
              "        text-align: right;\n",
              "    }\n",
              "</style>\n",
              "<table border=\"1\" class=\"dataframe\">\n",
              "  <thead>\n",
              "    <tr style=\"text-align: right;\">\n",
              "      <th></th>\n",
              "      <th>text</th>\n",
              "      <th>class</th>\n",
              "      <th>encoded_class</th>\n",
              "      <th>uni_text</th>\n",
              "      <th>conv_emojis</th>\n",
              "      <th>spell_checked</th>\n",
              "      <th>lower_text</th>\n",
              "    </tr>\n",
              "  </thead>\n",
              "  <tbody>\n",
              "    <tr>\n",
              "      <th>0</th>\n",
              "      <td>Ex Wife Threatening SuicideRecently I left my ...</td>\n",
              "      <td>suicide</td>\n",
              "      <td>1</td>\n",
              "      <td>Ex Wife Threatening SuicideRecently I left my ...</td>\n",
              "      <td>Ex Wife Threatening SuicideRecently I left my ...</td>\n",
              "      <td>sex wife threatening suiciderecently i left my...</td>\n",
              "      <td>ex wife threatening suiciderecently i left my ...</td>\n",
              "    </tr>\n",
              "    <tr>\n",
              "      <th>1</th>\n",
              "      <td>Am I weird I don't get affected by compliments...</td>\n",
              "      <td>non-suicide</td>\n",
              "      <td>0</td>\n",
              "      <td>Am I weird I don't get affected by compliments...</td>\n",
              "      <td>Am I weird I dont get affected by compliments ...</td>\n",
              "      <td>am i weird i done get affected by compliments ...</td>\n",
              "      <td>am i weird i dont get affected by compliments ...</td>\n",
              "    </tr>\n",
              "    <tr>\n",
              "      <th>2</th>\n",
              "      <td>Finally 2020 is almost over... So I can never ...</td>\n",
              "      <td>non-suicide</td>\n",
              "      <td>0</td>\n",
              "      <td>Finally 2020 is almost over... So I can never ...</td>\n",
              "      <td>Finally 2020 is almost over So I can never hea...</td>\n",
              "      <td>finally 2020 is almost over so i can never hea...</td>\n",
              "      <td>finally 2020 is almost over so i can never hea...</td>\n",
              "    </tr>\n",
              "    <tr>\n",
              "      <th>3</th>\n",
              "      <td>i need helpjust help me im crying so hard</td>\n",
              "      <td>suicide</td>\n",
              "      <td>1</td>\n",
              "      <td>i need helpjust help me im crying so hard</td>\n",
              "      <td>i need helpjust help me im crying so hard</td>\n",
              "      <td>i need helpjust help me in crying so hard</td>\n",
              "      <td>i need helpjust help me im crying so hard</td>\n",
              "    </tr>\n",
              "    <tr>\n",
              "      <th>4</th>\n",
              "      <td>I’m so lostHello, my name is Adam (16) and I’v...</td>\n",
              "      <td>suicide</td>\n",
              "      <td>1</td>\n",
              "      <td>I'm so lostHello, my name is Adam (16) and I'v...</td>\n",
              "      <td>Im so lostHello my name is Adam 16 and Ive bee...</td>\n",
              "      <td>in so costello my name is adam of and live bee...</td>\n",
              "      <td>im so losthello my name is adam 16 and ive bee...</td>\n",
              "    </tr>\n",
              "    <tr>\n",
              "      <th>...</th>\n",
              "      <td>...</td>\n",
              "      <td>...</td>\n",
              "      <td>...</td>\n",
              "      <td>...</td>\n",
              "      <td>...</td>\n",
              "      <td>...</td>\n",
              "      <td>...</td>\n",
              "    </tr>\n",
              "    <tr>\n",
              "      <th>232069</th>\n",
              "      <td>If you don't like rock then your not going to ...</td>\n",
              "      <td>non-suicide</td>\n",
              "      <td>0</td>\n",
              "      <td>If you don't like rock then your not going to ...</td>\n",
              "      <td>If you dont like rock then your not going to g...</td>\n",
              "      <td>if you done like rock then your not going to g...</td>\n",
              "      <td>if you dont like rock then your not going to g...</td>\n",
              "    </tr>\n",
              "    <tr>\n",
              "      <th>232070</th>\n",
              "      <td>You how you can tell i have so many friends an...</td>\n",
              "      <td>non-suicide</td>\n",
              "      <td>0</td>\n",
              "      <td>You how you can tell i have so many friends an...</td>\n",
              "      <td>You how you can tell i have so many friends an...</td>\n",
              "      <td>you how you can tell i have so many friends an...</td>\n",
              "      <td>you how you can tell i have so many friends an...</td>\n",
              "    </tr>\n",
              "    <tr>\n",
              "      <th>232071</th>\n",
              "      <td>pee probably tastes like salty tea😏💦‼️ can som...</td>\n",
              "      <td>non-suicide</td>\n",
              "      <td>0</td>\n",
              "      <td>pee probably tastes like salty tea!! can someo...</td>\n",
              "      <td>pee probably tastes like salty tea can someone...</td>\n",
              "      <td>pee probably tastes like salty tea can someone...</td>\n",
              "      <td>pee probably tastes like salty tea can someone...</td>\n",
              "    </tr>\n",
              "    <tr>\n",
              "      <th>232072</th>\n",
              "      <td>The usual stuff you find hereI'm not posting t...</td>\n",
              "      <td>suicide</td>\n",
              "      <td>1</td>\n",
              "      <td>The usual stuff you find hereI'm not posting t...</td>\n",
              "      <td>The usual stuff you find hereIm not posting th...</td>\n",
              "      <td>the usual stuff you find herein not posting th...</td>\n",
              "      <td>the usual stuff you find hereim not posting th...</td>\n",
              "    </tr>\n",
              "    <tr>\n",
              "      <th>232073</th>\n",
              "      <td>I still haven't beaten the first boss in Hollo...</td>\n",
              "      <td>non-suicide</td>\n",
              "      <td>0</td>\n",
              "      <td>I still haven't beaten the first boss in Hollo...</td>\n",
              "      <td>I still havent beaten the first boss in Hollow...</td>\n",
              "      <td>i still haven beaten the first boss in hollow ...</td>\n",
              "      <td>i still havent beaten the first boss in hollow...</td>\n",
              "    </tr>\n",
              "  </tbody>\n",
              "</table>\n",
              "<p>232074 rows × 7 columns</p>\n",
              "</div>\n",
              "      <button class=\"colab-df-convert\" onclick=\"convertToInteractive('df-8320321a-4d7a-4674-8b19-b85d7ede5c42')\"\n",
              "              title=\"Convert this dataframe to an interactive table.\"\n",
              "              style=\"display:none;\">\n",
              "        \n",
              "  <svg xmlns=\"http://www.w3.org/2000/svg\" height=\"24px\"viewBox=\"0 0 24 24\"\n",
              "       width=\"24px\">\n",
              "    <path d=\"M0 0h24v24H0V0z\" fill=\"none\"/>\n",
              "    <path d=\"M18.56 5.44l.94 2.06.94-2.06 2.06-.94-2.06-.94-.94-2.06-.94 2.06-2.06.94zm-11 1L8.5 8.5l.94-2.06 2.06-.94-2.06-.94L8.5 2.5l-.94 2.06-2.06.94zm10 10l.94 2.06.94-2.06 2.06-.94-2.06-.94-.94-2.06-.94 2.06-2.06.94z\"/><path d=\"M17.41 7.96l-1.37-1.37c-.4-.4-.92-.59-1.43-.59-.52 0-1.04.2-1.43.59L10.3 9.45l-7.72 7.72c-.78.78-.78 2.05 0 2.83L4 21.41c.39.39.9.59 1.41.59.51 0 1.02-.2 1.41-.59l7.78-7.78 2.81-2.81c.8-.78.8-2.07 0-2.86zM5.41 20L4 18.59l7.72-7.72 1.47 1.35L5.41 20z\"/>\n",
              "  </svg>\n",
              "      </button>\n",
              "      \n",
              "  <style>\n",
              "    .colab-df-container {\n",
              "      display:flex;\n",
              "      flex-wrap:wrap;\n",
              "      gap: 12px;\n",
              "    }\n",
              "\n",
              "    .colab-df-convert {\n",
              "      background-color: #E8F0FE;\n",
              "      border: none;\n",
              "      border-radius: 50%;\n",
              "      cursor: pointer;\n",
              "      display: none;\n",
              "      fill: #1967D2;\n",
              "      height: 32px;\n",
              "      padding: 0 0 0 0;\n",
              "      width: 32px;\n",
              "    }\n",
              "\n",
              "    .colab-df-convert:hover {\n",
              "      background-color: #E2EBFA;\n",
              "      box-shadow: 0px 1px 2px rgba(60, 64, 67, 0.3), 0px 1px 3px 1px rgba(60, 64, 67, 0.15);\n",
              "      fill: #174EA6;\n",
              "    }\n",
              "\n",
              "    [theme=dark] .colab-df-convert {\n",
              "      background-color: #3B4455;\n",
              "      fill: #D2E3FC;\n",
              "    }\n",
              "\n",
              "    [theme=dark] .colab-df-convert:hover {\n",
              "      background-color: #434B5C;\n",
              "      box-shadow: 0px 1px 3px 1px rgba(0, 0, 0, 0.15);\n",
              "      filter: drop-shadow(0px 1px 2px rgba(0, 0, 0, 0.3));\n",
              "      fill: #FFFFFF;\n",
              "    }\n",
              "  </style>\n",
              "\n",
              "      <script>\n",
              "        const buttonEl =\n",
              "          document.querySelector('#df-8320321a-4d7a-4674-8b19-b85d7ede5c42 button.colab-df-convert');\n",
              "        buttonEl.style.display =\n",
              "          google.colab.kernel.accessAllowed ? 'block' : 'none';\n",
              "\n",
              "        async function convertToInteractive(key) {\n",
              "          const element = document.querySelector('#df-8320321a-4d7a-4674-8b19-b85d7ede5c42');\n",
              "          const dataTable =\n",
              "            await google.colab.kernel.invokeFunction('convertToInteractive',\n",
              "                                                     [key], {});\n",
              "          if (!dataTable) return;\n",
              "\n",
              "          const docLinkHtml = 'Like what you see? Visit the ' +\n",
              "            '<a target=\"_blank\" href=https://colab.research.google.com/notebooks/data_table.ipynb>data table notebook</a>'\n",
              "            + ' to learn more about interactive tables.';\n",
              "          element.innerHTML = '';\n",
              "          dataTable['output_type'] = 'display_data';\n",
              "          await google.colab.output.renderOutput(dataTable, element);\n",
              "          const docLink = document.createElement('div');\n",
              "          docLink.innerHTML = docLinkHtml;\n",
              "          element.appendChild(docLink);\n",
              "        }\n",
              "      </script>\n",
              "    </div>\n",
              "  </div>\n",
              "  "
            ]
          },
          "metadata": {},
          "execution_count": 62
        }
      ]
    },
    {
      "cell_type": "markdown",
      "source": [
        "### Tokenization"
      ],
      "metadata": {
        "id": "Z2A5W9FiNHq8"
      }
    },
    {
      "cell_type": "markdown",
      "source": [
        "#### Using CountVectorizer()"
      ],
      "metadata": {
        "id": "AtMrWMjm-2z2"
      }
    },
    {
      "cell_type": "code",
      "source": [
        "class LemmaTokenizer:\n",
        "    ignore_tokens = [',', '.', ';', ':', '\"', '``', \"''\", '`']\n",
        "    def __init__(self):\n",
        "        self.wnl = WordNetLemmatizer()\n",
        "    def __call__(self, doc):\n",
        "        return [self.wnl.lemmatize(t) for t in word_tokenize(doc) if t not in self.ignore_tokens]"
      ],
      "metadata": {
        "id": "hZ_f52oVHtwg"
      },
      "execution_count": null,
      "outputs": []
    },
    {
      "cell_type": "code",
      "source": [
        "predictors = 'conv_emojis'\n",
        "outcome = 'encoded_class'\n",
        "\n",
        "X_t = data_df[predictors]\n",
        "y = data_df[outcome]\n",
        "\n",
        "X_train, X_test, y_train, y_test = train_test_split(X_t, y, test_size=0.3, random_state=1)\n",
        "\n",
        "vectorizer = TfidfVectorizer(encoding='utf-8', lowercase=True, \n",
        "                             stop_words={'english'}, strip_accents='unicode',\n",
        "                             analyzer='word', tokenizer=LemmaTokenizer())\n",
        "\n",
        "# took 3 minutes\n",
        "X_train = vectorizer.fit_transform(X_train)\n",
        "X_test = vectorizer.transform(X_test)\n",
        "\n",
        "#mnb = make_pipeline(CountVectorizer(), TfidfTransformer(), MultinomialNB())\n",
        "\n",
        "print(X_train.shape)\n",
        "print(y_train.shape)"
      ],
      "metadata": {
        "id": "iqS6TZ9ZPgHM",
        "colab": {
          "base_uri": "https://localhost:8080/"
        },
        "outputId": "f08c57d7-c60e-4da2-bab8-0eb0bd3be606"
      },
      "execution_count": null,
      "outputs": [
        {
          "output_type": "stream",
          "name": "stdout",
          "text": [
            "(162451, 168574)\n",
            "(162451,)\n"
          ]
        }
      ]
    },
    {
      "cell_type": "markdown",
      "source": [
        "#### Using NLTK modules"
      ],
      "metadata": {
        "id": "xO10quuW0AKM"
      }
    },
    {
      "cell_type": "code",
      "source": [
        "def convert_lowercase(df, column):\n",
        "    \"\"\"\n",
        "\n",
        "    :param df:\n",
        "    :return:\n",
        "    \"\"\"\n",
        "    df['lower_text'] = df[column].apply(lambda x: \" \".join(x.lower() for x in x.split()))\n",
        "    return df"
      ],
      "metadata": {
        "id": "8skm1qHA0P-e"
      },
      "execution_count": null,
      "outputs": []
    },
    {
      "cell_type": "code",
      "source": [
        "def get_all_words(cleaned_tokens_list):\n",
        "    \"\"\"\n",
        "\n",
        "    :param cleaned_tokens_list:\n",
        "    :return:\n",
        "    \"\"\"\n",
        "    for tokens in cleaned_tokens_list:\n",
        "        for token in tokens:\n",
        "            yield token"
      ],
      "metadata": {
        "id": "wwvAFN9F0XIS"
      },
      "execution_count": null,
      "outputs": []
    },
    {
      "cell_type": "code",
      "source": [
        "def remove_noise(text_tokens, stop_words):\n",
        "    \"\"\"\n",
        "\n",
        "    :param text_tokens:\n",
        "    :param stop_words:\n",
        "    :return:\n",
        "    \"\"\"\n",
        "    cleaned_tokens = []\n",
        "\n",
        "    for token, tag in pos_tag(text_tokens):\n",
        "        token = re.sub(\"_\", \" \", token)\n",
        "        if tag.startswith(\"NN\"):\n",
        "            pos = 'n'\n",
        "        elif tag.startswith('VB'):\n",
        "            pos = 'v'\n",
        "        else:\n",
        "            pos = 'a'\n",
        "\n",
        "        lemmatizer = WordNetLemmatizer()\n",
        "        token = lemmatizer.lemmatize(token, pos)\n",
        "        if len(token) > 0 and token not in string.punctuation and token not in stop_words:\n",
        "            cleaned_tokens.append(token)\n",
        "\n",
        "    return cleaned_tokens"
      ],
      "metadata": {
        "id": "09YgkqIC0G-D"
      },
      "execution_count": null,
      "outputs": []
    },
    {
      "cell_type": "code",
      "source": [
        "def get_text_for_model(cleaned_tokens_list):\n",
        "    for text_tokens in cleaned_tokens_list:\n",
        "        yield dict([token, True] for token in text_tokens)"
      ],
      "metadata": {
        "id": "ok7JJ2nhNSDH"
      },
      "execution_count": null,
      "outputs": []
    },
    {
      "cell_type": "code",
      "source": [
        "%%script false\n",
        "data_df = convert_lowercase(data_df, 'conv_emojis')"
      ],
      "metadata": {
        "id": "jV6HbQhuUWbw"
      },
      "execution_count": null,
      "outputs": []
    },
    {
      "cell_type": "code",
      "source": [
        "%%script false\n",
        "s_text_tokens = data_df.query('encoded_class == 1')['lower_text'].apply(word_tokenize)\n",
        "ns_text_tokens = data_df.query('encoded_class == 0')['lower_text'].apply(word_tokenize)"
      ],
      "metadata": {
        "id": "Vs1XDVIyzNtN"
      },
      "execution_count": null,
      "outputs": []
    },
    {
      "cell_type": "code",
      "source": [
        "\n",
        "stop_words = stopwords.words('english')\n",
        "\n",
        "s_cleaned_tokens = []\n",
        "ns_cleaned_tokens = []\n",
        "\n",
        "for s_row_tokens in s_text_tokens:\n",
        "  s_cleaned_tokens.append(remove_noise(s_row_tokens, stop_words))\n",
        "\n",
        "for ns_row_tokens in ns_text_tokens:\n",
        "  ns_cleaned_tokens.append(remove_noise(ns_row_tokens, stop_words))"
      ],
      "metadata": {
        "id": "fshYsRVNURyn"
      },
      "execution_count": null,
      "outputs": []
    },
    {
      "cell_type": "code",
      "source": [
        "def save_tokens_to_file(filename, list_tokens):\n",
        "  with open(data_path + filename, \"w\") as txt_file:\n",
        "    for line in list_tokens:\n",
        "        txt_file.write(\" \".join(line) + \"\\n\") # works with any number of elements in a line"
      ],
      "metadata": {
        "id": "_C2Q7sGOSvno"
      },
      "execution_count": null,
      "outputs": []
    },
    {
      "cell_type": "code",
      "source": [
        "def convert_file_to_tokens(filename):\n",
        "  with open(data_path + filename) as f:\n",
        "    contents = f.readlines()\n",
        "\n",
        "  cleaned_tokens = []\n",
        "\n",
        "  for each_line in contents:\n",
        "    each_line = each_line.replace('\\n', '')\n",
        "    cur_line_list = each_line.split(' ')\n",
        "    cleaned_tokens.append(cur_line_list)\n",
        "\n",
        "  return cleaned_tokens"
      ],
      "metadata": {
        "id": "PasYwqMDSfMt"
      },
      "execution_count": null,
      "outputs": []
    },
    {
      "cell_type": "code",
      "source": [
        "save_tokens_to_file(\"suicide_intent_tokens.txt\", s_cleaned_tokens)\n",
        "save_tokens_to_file(\"non_suicide_intent_tokens.txt\", ns_cleaned_tokens)"
      ],
      "metadata": {
        "id": "zv7ckyx0TMzs"
      },
      "execution_count": null,
      "outputs": []
    },
    {
      "cell_type": "code",
      "source": [
        "f_s_cleaned_tokens = convert_file_to_tokens(\"suicide_intent_tokens.txt\")\n",
        "f_ns_cleaned_tokens = convert_file_to_tokens(\"non_suicide_intent_tokens.txt\")"
      ],
      "metadata": {
        "id": "ImaMfdfGTnn7"
      },
      "execution_count": null,
      "outputs": []
    },
    {
      "cell_type": "code",
      "source": [
        "f_s_cleaned_tokens"
      ],
      "metadata": {
        "id": "uaMX7tjhkfdH"
      },
      "execution_count": null,
      "outputs": []
    },
    {
      "cell_type": "code",
      "source": [
        "s_all_words = get_all_words(f_s_cleaned_tokens)\n",
        "ns_all_words = get_all_words(f_ns_cleaned_tokens)"
      ],
      "metadata": {
        "id": "SbWITD1syhOY"
      },
      "execution_count": null,
      "outputs": []
    },
    {
      "cell_type": "code",
      "source": [
        "freq_dist_pos = FreqDist(s_all_words)\n",
        "print(freq_dist_pos.most_common(10))"
      ],
      "metadata": {
        "colab": {
          "base_uri": "https://localhost:8080/"
        },
        "id": "vHzhFqPuy6vH",
        "outputId": "226128be-8ff2-4d77-c9f5-633c09fe6576"
      },
      "execution_count": null,
      "outputs": [
        {
          "output_type": "stream",
          "name": "stdout",
          "text": [
            "[('im', 278502), ('dont', 179556), ('want', 160355), ('get', 152756), ('go', 141402), ('like', 134654), ('feel', 133365), ('know', 124837), ('life', 114743), ('ive', 97417)]\n"
          ]
        }
      ]
    },
    {
      "cell_type": "code",
      "source": [
        "freq_dist_neg = FreqDist(ns_all_words)\n",
        "print(freq_dist_neg.most_common(10))"
      ],
      "metadata": {
        "colab": {
          "base_uri": "https://localhost:8080/"
        },
        "id": "y5yx3LmA7C84",
        "outputId": "a37fbde3-b69d-486f-b997-6dda733d9c56"
      },
      "execution_count": null,
      "outputs": [
        {
          "output_type": "stream",
          "name": "stdout",
          "text": [
            "[('im', 62808), ('filler', 54239), ('like', 53648), ('get', 48500), ('dont', 34612), ('go', 31605), ('know', 28899), ('want', 27786), ('say', 27368), ('fuck', 26701)]\n"
          ]
        }
      ]
    },
    {
      "cell_type": "code",
      "source": [
        "s_tokens_for_model = get_text_for_model(f_s_cleaned_tokens)\n",
        "ns_tokens_for_model = get_text_for_model(f_ns_cleaned_tokens)\n",
        "\n",
        "positive_dataset = [(tweet_dict, \"Suicide\")\n",
        "                    for tweet_dict in s_tokens_for_model]\n",
        "\n",
        "negative_dataset = [(tweet_dict, \"Non-Suicide\")\n",
        "                    for tweet_dict in ns_tokens_for_model]"
      ],
      "metadata": {
        "id": "U6-X8W4KNLdT"
      },
      "execution_count": null,
      "outputs": []
    },
    {
      "cell_type": "code",
      "source": [
        "dataset = positive_dataset + negative_dataset"
      ],
      "metadata": {
        "id": "pEc-JfqTUJmd"
      },
      "execution_count": null,
      "outputs": []
    },
    {
      "cell_type": "code",
      "source": [
        "len(dataset)"
      ],
      "metadata": {
        "colab": {
          "base_uri": "https://localhost:8080/"
        },
        "id": "UwQeF5zhULFg",
        "outputId": "52424b89-3e48-4a7c-919f-71740a6f89a2"
      },
      "execution_count": null,
      "outputs": [
        {
          "output_type": "execute_result",
          "data": {
            "text/plain": [
              "232074"
            ]
          },
          "metadata": {},
          "execution_count": 34
        }
      ]
    },
    {
      "cell_type": "markdown",
      "source": [
        "#### Using Spacy"
      ],
      "metadata": {
        "id": "5yWM7QrIMpHG"
      }
    },
    {
      "cell_type": "code",
      "source": [
        "def spacy_preprocessing(text, nlp):\n",
        "    \"\"\"\n",
        "    Method to preprocess data - removes stop words, lemmatizes, removes punctuation, removes digits\n",
        "    and only allowed english characters\n",
        "    :param text: (String) a string that needs to be preocessed\n",
        "    :param nlp: (Spacy) a spacy object loaded with only english dictionary\n",
        "    :return: (String) a processed string\n",
        "    \"\"\"\n",
        "    text = unidecode(text)\n",
        "    text = text.lower()\n",
        "    text = re.sub(\"\\n\", \" \", text)\n",
        "\n",
        "    doc = nlp(text)\n",
        "    lemmatized_stopped_list = []\n",
        "\n",
        "    for token in doc:\n",
        "        if token.is_stop is False and len(token.lemma_) > 1:\n",
        "            lemmatized_stopped_list.append(token.lemma_)\n",
        "\n",
        "    tokenized_text = \" \".join(lemmatized_stopped_list).strip()\n",
        "    tokenized_text = tokenized_text.translate(str.maketrans('', '', string.punctuation))\n",
        "    tokenized_text = tokenized_text.translate(str.maketrans('', '', string.digits))\n",
        "    tokenized_text = ' '.join(tokenized_text.split())\n",
        "\n",
        "    return tokenized_text"
      ],
      "metadata": {
        "id": "skyk0OrcMrMb"
      },
      "execution_count": null,
      "outputs": []
    },
    {
      "cell_type": "markdown",
      "source": [
        "## Benchmark - Bag of Words"
      ],
      "metadata": {
        "id": "f40nRQqAYFLq"
      }
    },
    {
      "cell_type": "markdown",
      "source": [
        "### sklearn Naive Bayes Classifier"
      ],
      "metadata": {
        "id": "pckhUQ4VvoTr"
      }
    },
    {
      "cell_type": "code",
      "source": [
        "clf = MultinomialNB().fit(X_train, y_train)"
      ],
      "metadata": {
        "id": "WSnECZIEWkpf"
      },
      "execution_count": null,
      "outputs": []
    },
    {
      "cell_type": "code",
      "source": [
        "predicted = clf.predict(X_test)\n",
        "print(f\"Accuracy is: {np.mean(predicted == y_test)}\")\n",
        "\n",
        "# Accuracy is: 0.8782155322235469"
      ],
      "metadata": {
        "colab": {
          "base_uri": "https://localhost:8080/"
        },
        "id": "nFg-jA69vXeQ",
        "outputId": "3601a769-3c9c-4357-986f-102100613637"
      },
      "execution_count": null,
      "outputs": [
        {
          "output_type": "stream",
          "name": "stdout",
          "text": [
            "Accuracy is: 0.8782155322235469\n"
          ]
        }
      ]
    },
    {
      "cell_type": "code",
      "source": [
        "X_train"
      ],
      "metadata": {
        "colab": {
          "base_uri": "https://localhost:8080/"
        },
        "id": "7qiqwlEn_j2T",
        "outputId": "9fda636d-ac90-49b8-a62d-b4fe0a5312f5"
      },
      "execution_count": null,
      "outputs": [
        {
          "output_type": "execute_result",
          "data": {
            "text/plain": [
              "<162451x168574 sparse matrix of type '<class 'numpy.float64'>'\n",
              "\twith 11704522 stored elements in Compressed Sparse Row format>"
            ]
          },
          "metadata": {},
          "execution_count": 64
        }
      ]
    },
    {
      "cell_type": "markdown",
      "source": [
        "### NLTK Naive Bayes Classifier"
      ],
      "metadata": {
        "id": "g1wLM63Svprn"
      }
    },
    {
      "cell_type": "code",
      "source": [
        "random.shuffle(dataset)"
      ],
      "metadata": {
        "id": "65TdnDqSz47z"
      },
      "execution_count": null,
      "outputs": []
    },
    {
      "cell_type": "code",
      "source": [
        "n_train = int(0.7 * len(dataset))\n",
        "\n",
        "train_data = dataset[0:n_train]\n",
        "test_data = dataset[n_train:]"
      ],
      "metadata": {
        "id": "zUvDQlg1UYnH"
      },
      "execution_count": null,
      "outputs": []
    },
    {
      "cell_type": "code",
      "source": [
        "classifier = NaiveBayesClassifier.train(train_data)\n",
        "print(f\"Accuracy is: {classify.accuracy(classifier, test_data)}\")\n",
        "\n",
        "# Accuracy is: 0.5596713729658302"
      ],
      "metadata": {
        "colab": {
          "base_uri": "https://localhost:8080/"
        },
        "id": "S0BJQuxNVCyx",
        "outputId": "6ad5fa13-7b1f-4a19-c799-24626efd8719"
      },
      "execution_count": null,
      "outputs": [
        {
          "output_type": "stream",
          "name": "stdout",
          "text": [
            "Accuracy is: 0.5608204185398503\n"
          ]
        }
      ]
    },
    {
      "cell_type": "code",
      "source": [
        "train_data"
      ],
      "metadata": {
        "id": "eYcKL9Da_1n1"
      },
      "execution_count": null,
      "outputs": []
    },
    {
      "cell_type": "code",
      "source": [
        "print(classifier.show_most_informative_features(30))"
      ],
      "metadata": {
        "colab": {
          "base_uri": "https://localhost:8080/"
        },
        "id": "ybDM_D0JVLPc",
        "outputId": "f1642bba-72fa-47f1-a1c7-7f3589d5866b"
      },
      "execution_count": null,
      "outputs": [
        {
          "output_type": "stream",
          "name": "stdout",
          "text": [
            "Most Informative Features\n",
            "                anymorei = True           Suicid : Non-Su =    660.9 : 1.0\n",
            "                 myselfi = True           Suicid : Non-Su =    253.5 : 1.0\n",
            "               anymoreim = True           Suicid : Non-Su =    250.7 : 1.0\n",
            "                   helpi = True           Suicid : Non-Su =    221.1 : 1.0\n",
            "         hospitalization = True           Suicid : Non-Su =    150.8 : 1.0\n",
            "                      sw = True           Suicid : Non-Su =    150.8 : 1.0\n",
            "                  helpim = True           Suicid : Non-Su =    137.5 : 1.0\n",
            "                    itim = True           Suicid : Non-Su =    136.4 : 1.0\n",
            "               suicidali = True           Suicid : Non-Su =    132.8 : 1.0\n",
            "                   itive = True           Suicid : Non-Su =    124.2 : 1.0\n",
            "                  lifeim = True           Suicid : Non-Su =    124.2 : 1.0\n",
            "                ideation = True           Suicid : Non-Su =    105.7 : 1.0\n",
            "                  alonei = True           Suicid : Non-Su =    102.9 : 1.0\n",
            "                  filler = True           Non-Su : Suicid =    101.5 : 1.0\n",
            "                   lifei = True           Suicid : Non-Su =    100.5 : 1.0\n",
            "                   meive = True           Suicid : Non-Su =     96.9 : 1.0\n",
            "                   donei = True           Suicid : Non-Su =     93.7 : 1.0\n",
            "                    ssri = True           Suicid : Non-Su =     90.9 : 1.0\n",
            "              outpatient = True           Suicid : Non-Su =     83.6 : 1.0\n",
            "                fleeting = True           Suicid : Non-Su =     82.9 : 1.0\n",
            "                     goi = True           Suicid : Non-Su =     80.9 : 1.0\n",
            "                  thisim = True           Suicid : Non-Su =     80.9 : 1.0\n",
            "                  nighti = True           Suicid : Non-Su =     80.2 : 1.0\n",
            "                     doi = True           Suicid : Non-Su =     77.4 : 1.0\n",
            "                painless = True           Suicid : Non-Su =     76.2 : 1.0\n",
            "              rteenagers = True           Non-Su : Suicid =     74.5 : 1.0\n",
            "                  faggot = True           Suicid : Non-Su =     74.2 : 1.0\n",
            "               inpatient = True           Suicid : Non-Su =     74.0 : 1.0\n",
            "                   lease = True           Suicid : Non-Su =     73.3 : 1.0\n",
            "           antipsychotic = True           Suicid : Non-Su =     72.9 : 1.0\n",
            "None\n"
          ]
        }
      ]
    },
    {
      "cell_type": "markdown",
      "source": [
        "# Using a pretrained BERT model"
      ],
      "metadata": {
        "id": "g3f1UIA4Kcjr"
      }
    },
    {
      "cell_type": "code",
      "source": [
        "!pip install transformers"
      ],
      "metadata": {
        "colab": {
          "base_uri": "https://localhost:8080/"
        },
        "id": "Iq8NNNaoLBNC",
        "outputId": "b23362d3-6837-467c-b93b-0c3a9da630c6"
      },
      "execution_count": null,
      "outputs": [
        {
          "output_type": "stream",
          "name": "stdout",
          "text": [
            "Looking in indexes: https://pypi.org/simple, https://us-python.pkg.dev/colab-wheels/public/simple/\n",
            "Collecting transformers\n",
            "  Downloading transformers-4.20.0-py3-none-any.whl (4.4 MB)\n",
            "\u001b[K     |████████████████████████████████| 4.4 MB 16.1 MB/s \n",
            "\u001b[?25hCollecting tokenizers!=0.11.3,<0.13,>=0.11.1\n",
            "  Downloading tokenizers-0.12.1-cp37-cp37m-manylinux_2_12_x86_64.manylinux2010_x86_64.whl (6.6 MB)\n",
            "\u001b[K     |████████████████████████████████| 6.6 MB 40.7 MB/s \n",
            "\u001b[?25hRequirement already satisfied: tqdm>=4.27 in /usr/local/lib/python3.7/dist-packages (from transformers) (4.64.0)\n",
            "Requirement already satisfied: regex!=2019.12.17 in /usr/local/lib/python3.7/dist-packages (from transformers) (2022.6.2)\n",
            "Requirement already satisfied: filelock in /usr/local/lib/python3.7/dist-packages (from transformers) (3.7.1)\n",
            "Requirement already satisfied: requests in /usr/local/lib/python3.7/dist-packages (from transformers) (2.23.0)\n",
            "Requirement already satisfied: importlib-metadata in /usr/local/lib/python3.7/dist-packages (from transformers) (4.11.4)\n",
            "Collecting huggingface-hub<1.0,>=0.1.0\n",
            "  Downloading huggingface_hub-0.7.0-py3-none-any.whl (86 kB)\n",
            "\u001b[K     |████████████████████████████████| 86 kB 5.2 MB/s \n",
            "\u001b[?25hCollecting pyyaml>=5.1\n",
            "  Downloading PyYAML-6.0-cp37-cp37m-manylinux_2_5_x86_64.manylinux1_x86_64.manylinux_2_12_x86_64.manylinux2010_x86_64.whl (596 kB)\n",
            "\u001b[K     |████████████████████████████████| 596 kB 46.7 MB/s \n",
            "\u001b[?25hRequirement already satisfied: numpy>=1.17 in /usr/local/lib/python3.7/dist-packages (from transformers) (1.21.6)\n",
            "Requirement already satisfied: packaging>=20.0 in /usr/local/lib/python3.7/dist-packages (from transformers) (21.3)\n",
            "Requirement already satisfied: typing-extensions>=3.7.4.3 in /usr/local/lib/python3.7/dist-packages (from huggingface-hub<1.0,>=0.1.0->transformers) (4.1.1)\n",
            "Requirement already satisfied: pyparsing!=3.0.5,>=2.0.2 in /usr/local/lib/python3.7/dist-packages (from packaging>=20.0->transformers) (3.0.9)\n",
            "Requirement already satisfied: zipp>=0.5 in /usr/local/lib/python3.7/dist-packages (from importlib-metadata->transformers) (3.8.0)\n",
            "Requirement already satisfied: chardet<4,>=3.0.2 in /usr/local/lib/python3.7/dist-packages (from requests->transformers) (3.0.4)\n",
            "Requirement already satisfied: certifi>=2017.4.17 in /usr/local/lib/python3.7/dist-packages (from requests->transformers) (2022.6.15)\n",
            "Requirement already satisfied: idna<3,>=2.5 in /usr/local/lib/python3.7/dist-packages (from requests->transformers) (2.10)\n",
            "Requirement already satisfied: urllib3!=1.25.0,!=1.25.1,<1.26,>=1.21.1 in /usr/local/lib/python3.7/dist-packages (from requests->transformers) (1.24.3)\n",
            "Installing collected packages: pyyaml, tokenizers, huggingface-hub, transformers\n",
            "  Attempting uninstall: pyyaml\n",
            "    Found existing installation: PyYAML 3.13\n",
            "    Uninstalling PyYAML-3.13:\n",
            "      Successfully uninstalled PyYAML-3.13\n",
            "Successfully installed huggingface-hub-0.7.0 pyyaml-6.0 tokenizers-0.12.1 transformers-4.20.0\n"
          ]
        }
      ]
    },
    {
      "cell_type": "markdown",
      "source": [
        "## Preprocessing model"
      ],
      "metadata": {
        "id": "__9kbImWKgI8"
      }
    },
    {
      "cell_type": "code",
      "source": [],
      "metadata": {
        "id": "kHvrQONZ9Ecj"
      },
      "execution_count": null,
      "outputs": []
    }
  ]
}